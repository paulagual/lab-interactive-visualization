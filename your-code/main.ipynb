{
 "cells": [
  {
   "cell_type": "markdown",
   "metadata": {
    "toc": true
   },
   "source": [
    "<h1>Table of Contents<span class=\"tocSkip\"></span></h1>\n",
    "<div class=\"toc\"><ul class=\"toc-item\"><li><span><a href=\"#Interactive-Visualization-Lab\" data-toc-modified-id=\"Interactive-Visualization-Lab-1\"><span class=\"toc-item-num\">1&nbsp;&nbsp;</span>Interactive Visualization Lab</a></span><ul class=\"toc-item\"><li><span><a href=\"#1.-Create-an-interactive-bar-chart-showing-total-quantity-and-revenue-by-country-(excluding-United-Kingdom)-for-the-month-of-April-2011.\" data-toc-modified-id=\"1.-Create-an-interactive-bar-chart-showing-total-quantity-and-revenue-by-country-(excluding-United-Kingdom)-for-the-month-of-April-2011.-1.1\"><span class=\"toc-item-num\">1.1&nbsp;&nbsp;</span>1. Create an interactive bar chart showing total quantity and revenue by country (excluding United Kingdom) for the month of April 2011.</a></span></li><li><span><a href=\"#2.-Create-an-interactive-line-chart-showing-quantity-and-revenue-sold-to-France-between-January-1st-and-May-31st-2011.\" data-toc-modified-id=\"2.-Create-an-interactive-line-chart-showing-quantity-and-revenue-sold-to-France-between-January-1st-and-May-31st-2011.-1.2\"><span class=\"toc-item-num\">1.2&nbsp;&nbsp;</span>2. Create an interactive line chart showing quantity and revenue sold to France between January 1st and May 31st 2011.</a></span></li><li><span><a href=\"#3.-Create-an-interactive-scatter-plot-showing-the-relationship-between-average-quantity-(x-axis)-and-average-unit-price-(y-axis)-for-the-product-PARTY-BUNTING-with-the-plot-points-color-coded-by-country-(categories).\" data-toc-modified-id=\"3.-Create-an-interactive-scatter-plot-showing-the-relationship-between-average-quantity-(x-axis)-and-average-unit-price-(y-axis)-for-the-product-PARTY-BUNTING-with-the-plot-points-color-coded-by-country-(categories).-1.3\"><span class=\"toc-item-num\">1.3&nbsp;&nbsp;</span>3. Create an interactive scatter plot showing the relationship between average quantity (x-axis) and average unit price (y-axis) for the product PARTY BUNTING with the plot points color-coded by country (categories).</a></span></li><li><span><a href=\"#4.-Create-a-set-of-interactive-histograms-showing-the-distributions-of-quantity-per-invoice-for-the-following-countries:-EIRE,-Germany,-France,-and-Netherlands.\" data-toc-modified-id=\"4.-Create-a-set-of-interactive-histograms-showing-the-distributions-of-quantity-per-invoice-for-the-following-countries:-EIRE,-Germany,-France,-and-Netherlands.-1.4\"><span class=\"toc-item-num\">1.4&nbsp;&nbsp;</span>4. Create a set of interactive histograms showing the distributions of quantity per invoice for the following countries: EIRE, Germany, France, and Netherlands.</a></span></li><li><span><a href=\"#5.-Create-an-interactive-side-by-side-bar-chart-showing-the-revenue-by-country-listed-below-(bars)-for-each-of-the-products-listed-below.\" data-toc-modified-id=\"5.-Create-an-interactive-side-by-side-bar-chart-showing-the-revenue-by-country-listed-below-(bars)-for-each-of-the-products-listed-below.-1.5\"><span class=\"toc-item-num\">1.5&nbsp;&nbsp;</span>5. Create an interactive side-by-side bar chart showing the revenue by country listed below (bars) for each of the products listed below.</a></span></li><li><span><a href=\"#6.-Create-an-interactive-line-chart-showing-quantity-sold-by-day-for-the-United-Kingdom.-Add-drop-down-boxes-for-Year-and-Month-that-allow-you-to-filter-the-date-range-that-appears-in-the-chart.\" data-toc-modified-id=\"6.-Create-an-interactive-line-chart-showing-quantity-sold-by-day-for-the-United-Kingdom.-Add-drop-down-boxes-for-Year-and-Month-that-allow-you-to-filter-the-date-range-that-appears-in-the-chart.-1.6\"><span class=\"toc-item-num\">1.6&nbsp;&nbsp;</span>6. Create an interactive line chart showing quantity sold by day for the United Kingdom. Add drop-down boxes for Year and Month that allow you to filter the date range that appears in the chart.</a></span></li><li><span><a href=\"#7.-Create-an-interactive-scatter-plot-that-plots-number-of-invoices-(x-axis)-vs.-number-of-customers-(y-axis)-and-the-plot-points-represent-individual-products.-Add-two-sliders-that-control-the-x-and-y-axis-ranges.\" data-toc-modified-id=\"7.-Create-an-interactive-scatter-plot-that-plots-number-of-invoices-(x-axis)-vs.-number-of-customers-(y-axis)-and-the-plot-points-represent-individual-products.-Add-two-sliders-that-control-the-x-and-y-axis-ranges.-1.7\"><span class=\"toc-item-num\">1.7&nbsp;&nbsp;</span>7. Create an interactive scatter plot that plots number of invoices (x-axis) vs. number of customers (y-axis) and the plot points represent individual products. Add two sliders that control the x and y axis ranges.</a></span></li><li><span><a href=\"#8.-Creat-an-interactive-bar-chart-that-shows-revenue-by-product-description.-Add-a-text-field-widget-that-filters-the-results-to-show-the-product-that-contain-the-text-entered-in-their-description.\" data-toc-modified-id=\"8.-Creat-an-interactive-bar-chart-that-shows-revenue-by-product-description.-Add-a-text-field-widget-that-filters-the-results-to-show-the-product-that-contain-the-text-entered-in-their-description.-1.8\"><span class=\"toc-item-num\">1.8&nbsp;&nbsp;</span>8. Creat an interactive bar chart that shows revenue by product description. Add a text field widget that filters the results to show the product that contain the text entered in their description.</a></span></li></ul></li></ul></div>"
   ]
  },
  {
   "cell_type": "markdown",
   "metadata": {},
   "source": [
    "# Interactive Visualization Lab\n",
    "\n",
    "Complete the following set of exercises to solidify your knowledge of interactive visualization using Plotly, Cufflinks, and IPyWidgets."
   ]
  },
  {
   "cell_type": "code",
   "execution_count": 114,
   "metadata": {
    "ExecuteTime": {
     "end_time": "2019-07-27T20:57:40.523866Z",
     "start_time": "2019-07-27T20:57:39.979646Z"
    }
   },
   "outputs": [
    {
     "data": {
      "text/html": [
       "        <script type=\"text/javascript\">\n",
       "        window.PlotlyConfig = {MathJaxConfig: 'local'};\n",
       "        if (window.MathJax) {MathJax.Hub.Config({SVG: {font: \"STIX-Web\"}});}\n",
       "        if (typeof require !== 'undefined') {\n",
       "        require.undef(\"plotly\");\n",
       "        requirejs.config({\n",
       "            paths: {\n",
       "                'plotly': ['https://cdn.plot.ly/plotly-latest.min']\n",
       "            }\n",
       "        });\n",
       "        require(['plotly'], function(Plotly) {\n",
       "            window._Plotly = Plotly;\n",
       "        });\n",
       "        }\n",
       "        </script>\n",
       "        "
      ]
     },
     "metadata": {},
     "output_type": "display_data"
    }
   ],
   "source": [
    "import pandas as pd\n",
    "import plotly.plotly as py\n",
    "import cufflinks as cf\n",
    "from ipywidgets import interact\n",
    "import plotly.graph_objs as go\n",
    "cf.go_offline()"
   ]
  },
  {
   "cell_type": "code",
   "execution_count": 2,
   "metadata": {
    "ExecuteTime": {
     "end_time": "2019-07-27T21:02:11.999453Z",
     "start_time": "2019-07-27T21:01:30.667125Z"
    }
   },
   "outputs": [],
   "source": [
    "data = pd.read_excel('../data/Online Retail.xlsx')"
   ]
  },
  {
   "cell_type": "code",
   "execution_count": 3,
   "metadata": {},
   "outputs": [
    {
     "data": {
      "text/html": [
       "<div>\n",
       "<style scoped>\n",
       "    .dataframe tbody tr th:only-of-type {\n",
       "        vertical-align: middle;\n",
       "    }\n",
       "\n",
       "    .dataframe tbody tr th {\n",
       "        vertical-align: top;\n",
       "    }\n",
       "\n",
       "    .dataframe thead th {\n",
       "        text-align: right;\n",
       "    }\n",
       "</style>\n",
       "<table border=\"1\" class=\"dataframe\">\n",
       "  <thead>\n",
       "    <tr style=\"text-align: right;\">\n",
       "      <th></th>\n",
       "      <th>InvoiceNo</th>\n",
       "      <th>InvoiceDate</th>\n",
       "      <th>StockCode</th>\n",
       "      <th>Description</th>\n",
       "      <th>Quantity</th>\n",
       "      <th>UnitPrice</th>\n",
       "      <th>Revenue</th>\n",
       "      <th>CustomerID</th>\n",
       "      <th>Country</th>\n",
       "    </tr>\n",
       "  </thead>\n",
       "  <tbody>\n",
       "    <tr>\n",
       "      <th>0</th>\n",
       "      <td>536365</td>\n",
       "      <td>2010-12-01 08:26:00</td>\n",
       "      <td>85123A</td>\n",
       "      <td>CREAM HANGING HEART T-LIGHT HOLDER</td>\n",
       "      <td>6</td>\n",
       "      <td>2.55</td>\n",
       "      <td>15.3</td>\n",
       "      <td>17850</td>\n",
       "      <td>United Kingdom</td>\n",
       "    </tr>\n",
       "    <tr>\n",
       "      <th>1</th>\n",
       "      <td>536373</td>\n",
       "      <td>2010-12-01 09:02:00</td>\n",
       "      <td>85123A</td>\n",
       "      <td>CREAM HANGING HEART T-LIGHT HOLDER</td>\n",
       "      <td>6</td>\n",
       "      <td>2.55</td>\n",
       "      <td>15.3</td>\n",
       "      <td>17850</td>\n",
       "      <td>United Kingdom</td>\n",
       "    </tr>\n",
       "    <tr>\n",
       "      <th>2</th>\n",
       "      <td>536375</td>\n",
       "      <td>2010-12-01 09:32:00</td>\n",
       "      <td>85123A</td>\n",
       "      <td>CREAM HANGING HEART T-LIGHT HOLDER</td>\n",
       "      <td>6</td>\n",
       "      <td>2.55</td>\n",
       "      <td>15.3</td>\n",
       "      <td>17850</td>\n",
       "      <td>United Kingdom</td>\n",
       "    </tr>\n",
       "    <tr>\n",
       "      <th>3</th>\n",
       "      <td>536390</td>\n",
       "      <td>2010-12-01 10:19:00</td>\n",
       "      <td>85123A</td>\n",
       "      <td>CREAM HANGING HEART T-LIGHT HOLDER</td>\n",
       "      <td>64</td>\n",
       "      <td>2.55</td>\n",
       "      <td>163.2</td>\n",
       "      <td>17511</td>\n",
       "      <td>United Kingdom</td>\n",
       "    </tr>\n",
       "    <tr>\n",
       "      <th>4</th>\n",
       "      <td>536394</td>\n",
       "      <td>2010-12-01 10:39:00</td>\n",
       "      <td>85123A</td>\n",
       "      <td>CREAM HANGING HEART T-LIGHT HOLDER</td>\n",
       "      <td>32</td>\n",
       "      <td>2.55</td>\n",
       "      <td>81.6</td>\n",
       "      <td>13408</td>\n",
       "      <td>United Kingdom</td>\n",
       "    </tr>\n",
       "  </tbody>\n",
       "</table>\n",
       "</div>"
      ],
      "text/plain": [
       "   InvoiceNo         InvoiceDate StockCode  \\\n",
       "0     536365 2010-12-01 08:26:00    85123A   \n",
       "1     536373 2010-12-01 09:02:00    85123A   \n",
       "2     536375 2010-12-01 09:32:00    85123A   \n",
       "3     536390 2010-12-01 10:19:00    85123A   \n",
       "4     536394 2010-12-01 10:39:00    85123A   \n",
       "\n",
       "                          Description  Quantity  UnitPrice  Revenue  \\\n",
       "0  CREAM HANGING HEART T-LIGHT HOLDER         6       2.55     15.3   \n",
       "1  CREAM HANGING HEART T-LIGHT HOLDER         6       2.55     15.3   \n",
       "2  CREAM HANGING HEART T-LIGHT HOLDER         6       2.55     15.3   \n",
       "3  CREAM HANGING HEART T-LIGHT HOLDER        64       2.55    163.2   \n",
       "4  CREAM HANGING HEART T-LIGHT HOLDER        32       2.55     81.6   \n",
       "\n",
       "   CustomerID         Country  \n",
       "0       17850  United Kingdom  \n",
       "1       17850  United Kingdom  \n",
       "2       17850  United Kingdom  \n",
       "3       17511  United Kingdom  \n",
       "4       13408  United Kingdom  "
      ]
     },
     "execution_count": 3,
     "metadata": {},
     "output_type": "execute_result"
    }
   ],
   "source": [
    "data.head()"
   ]
  },
  {
   "cell_type": "markdown",
   "metadata": {},
   "source": [
    "## 1. Create an interactive bar chart showing total quantity and revenue by country (excluding United Kingdom) for the month of April 2011."
   ]
  },
  {
   "cell_type": "code",
   "execution_count": 16,
   "metadata": {},
   "outputs": [],
   "source": [
    "data1 = data[(data['Country']!='United Kingdom')  & (data['InvoiceDate'] >= '2011-04-01 00:00:00') & (data['InvoiceDate'] <= '2011-04-30 23:59:59')]\n",
    "data1 = data1.pivot_table(values=['Quantity','Revenue'], index='Country', aggfunc='sum')\n",
    "data1 = data1.reset_index()\n"
   ]
  },
  {
   "cell_type": "code",
   "execution_count": 17,
   "metadata": {},
   "outputs": [
    {
     "data": {
      "application/vnd.plotly.v1+json": {
       "config": {
        "linkText": "Export to plot.ly",
        "plotlyServerURL": "https://plot.ly",
        "showLink": true
       },
       "data": [
        {
         "marker": {
          "color": "rgba(255, 153, 51, 0.6)",
          "line": {
           "color": "rgba(255, 153, 51, 1.0)",
           "width": 1
          }
         },
         "name": "Quantity",
         "orientation": "v",
         "text": "",
         "type": "bar",
         "uid": "287415d8-5e7a-47b4-9826-2417e3f620ab",
         "x": [
          "Australia",
          "Austria",
          "Belgium",
          "Brazil",
          "Channel Islands",
          "EIRE",
          "Finland",
          "France",
          "Germany",
          "Greece",
          "Iceland",
          "Italy",
          "Japan",
          "Netherlands",
          "Poland",
          "Portugal",
          "Singapore",
          "Spain",
          "Sweden",
          "Switzerland",
          "USA"
         ],
         "y": [
          224,
          308,
          1170,
          356,
          96,
          4129,
          810,
          2265,
          5702,
          260,
          483,
          653,
          8058,
          1762,
          432,
          951,
          1384,
          948,
          306,
          878,
          137
         ]
        },
        {
         "marker": {
          "color": "rgba(55, 128, 191, 0.6)",
          "line": {
           "color": "rgba(55, 128, 191, 1.0)",
           "width": 1
          }
         },
         "name": "Revenue",
         "orientation": "v",
         "text": "",
         "type": "bar",
         "uid": "efab52d6-c52e-4870-91db-76ec263e28c8",
         "x": [
          "Australia",
          "Austria",
          "Belgium",
          "Brazil",
          "Channel Islands",
          "EIRE",
          "Finland",
          "France",
          "Germany",
          "Greece",
          "Iceland",
          "Italy",
          "Japan",
          "Netherlands",
          "Poland",
          "Portugal",
          "Singapore",
          "Spain",
          "Sweden",
          "Switzerland",
          "USA"
         ],
         "y": [
          421.6,
          584.78,
          1788.4799999999989,
          1143.6000000000001,
          243.00000000000003,
          7270.4999999999945,
          1368.92,
          3899.309999999998,
          10994.789999999995,
          509.73999999999995,
          636.2499999999999,
          737.8300000000002,
          6548.500000000001,
          2886.5600000000004,
          705.8399999999999,
          1687.7499999999998,
          2118.74,
          1645.65,
          649.1,
          1756.9399999999998,
          383.94999999999993
         ]
        }
       ],
       "layout": {
        "legend": {
         "bgcolor": "#F5F6F9",
         "font": {
          "color": "#4D5663"
         }
        },
        "paper_bgcolor": "#F5F6F9",
        "plot_bgcolor": "#F5F6F9",
        "title": {
         "font": {
          "color": "#4D5663"
         },
         "text": "Total Quantity and Revenue by Country(excluded UK) April 2011"
        },
        "xaxis": {
         "gridcolor": "#E1E5ED",
         "showgrid": true,
         "tickfont": {
          "color": "#4D5663"
         },
         "title": {
          "font": {
           "color": "#4D5663"
          },
          "text": "Country"
         },
         "zerolinecolor": "#E1E5ED"
        },
        "yaxis": {
         "gridcolor": "#E1E5ED",
         "showgrid": true,
         "tickfont": {
          "color": "#4D5663"
         },
         "title": {
          "font": {
           "color": "#4D5663"
          },
          "text": "Total"
         },
         "zerolinecolor": "#E1E5ED"
        }
       }
      },
      "text/html": [
       "<div>\n",
       "        \n",
       "        \n",
       "            <div id=\"68c66acd-a091-4729-9332-7b6abef5b6b0\" class=\"plotly-graph-div\" style=\"height:525px; width:100%;\"></div>\n",
       "            <script type=\"text/javascript\">\n",
       "                require([\"plotly\"], function(Plotly) {\n",
       "                    window.PLOTLYENV=window.PLOTLYENV || {};\n",
       "                    window.PLOTLYENV.BASE_URL='https://plot.ly';\n",
       "                    \n",
       "                if (document.getElementById(\"68c66acd-a091-4729-9332-7b6abef5b6b0\")) {\n",
       "                    Plotly.newPlot(\n",
       "                        '68c66acd-a091-4729-9332-7b6abef5b6b0',\n",
       "                        [{\"marker\": {\"color\": \"rgba(255, 153, 51, 0.6)\", \"line\": {\"color\": \"rgba(255, 153, 51, 1.0)\", \"width\": 1}}, \"name\": \"Quantity\", \"orientation\": \"v\", \"text\": \"\", \"type\": \"bar\", \"uid\": \"287415d8-5e7a-47b4-9826-2417e3f620ab\", \"x\": [\"Australia\", \"Austria\", \"Belgium\", \"Brazil\", \"Channel Islands\", \"EIRE\", \"Finland\", \"France\", \"Germany\", \"Greece\", \"Iceland\", \"Italy\", \"Japan\", \"Netherlands\", \"Poland\", \"Portugal\", \"Singapore\", \"Spain\", \"Sweden\", \"Switzerland\", \"USA\"], \"y\": [224, 308, 1170, 356, 96, 4129, 810, 2265, 5702, 260, 483, 653, 8058, 1762, 432, 951, 1384, 948, 306, 878, 137]}, {\"marker\": {\"color\": \"rgba(55, 128, 191, 0.6)\", \"line\": {\"color\": \"rgba(55, 128, 191, 1.0)\", \"width\": 1}}, \"name\": \"Revenue\", \"orientation\": \"v\", \"text\": \"\", \"type\": \"bar\", \"uid\": \"efab52d6-c52e-4870-91db-76ec263e28c8\", \"x\": [\"Australia\", \"Austria\", \"Belgium\", \"Brazil\", \"Channel Islands\", \"EIRE\", \"Finland\", \"France\", \"Germany\", \"Greece\", \"Iceland\", \"Italy\", \"Japan\", \"Netherlands\", \"Poland\", \"Portugal\", \"Singapore\", \"Spain\", \"Sweden\", \"Switzerland\", \"USA\"], \"y\": [421.6, 584.78, 1788.4799999999989, 1143.6000000000001, 243.00000000000003, 7270.4999999999945, 1368.92, 3899.309999999998, 10994.789999999995, 509.73999999999995, 636.2499999999999, 737.8300000000002, 6548.500000000001, 2886.5600000000004, 705.8399999999999, 1687.7499999999998, 2118.74, 1645.65, 649.1, 1756.9399999999998, 383.94999999999993]}],\n",
       "                        {\"legend\": {\"bgcolor\": \"#F5F6F9\", \"font\": {\"color\": \"#4D5663\"}}, \"paper_bgcolor\": \"#F5F6F9\", \"plot_bgcolor\": \"#F5F6F9\", \"title\": {\"font\": {\"color\": \"#4D5663\"}, \"text\": \"Total Quantity and Revenue by Country(excluded UK) April 2011\"}, \"xaxis\": {\"gridcolor\": \"#E1E5ED\", \"showgrid\": true, \"tickfont\": {\"color\": \"#4D5663\"}, \"title\": {\"font\": {\"color\": \"#4D5663\"}, \"text\": \"Country\"}, \"zerolinecolor\": \"#E1E5ED\"}, \"yaxis\": {\"gridcolor\": \"#E1E5ED\", \"showgrid\": true, \"tickfont\": {\"color\": \"#4D5663\"}, \"title\": {\"font\": {\"color\": \"#4D5663\"}, \"text\": \"Total\"}, \"zerolinecolor\": \"#E1E5ED\"}},\n",
       "                        {\"showLink\": true, \"linkText\": \"Export to plot.ly\", \"plotlyServerURL\": \"https://plot.ly\", \"responsive\": true}\n",
       "                    ).then(function(){\n",
       "                            \n",
       "var gd = document.getElementById('68c66acd-a091-4729-9332-7b6abef5b6b0');\n",
       "var x = new MutationObserver(function (mutations, observer) {{\n",
       "        var display = window.getComputedStyle(gd).display;\n",
       "        if (!display || display === 'none') {{\n",
       "            console.log([gd, 'removed!']);\n",
       "            Plotly.purge(gd);\n",
       "            observer.disconnect();\n",
       "        }}\n",
       "}});\n",
       "\n",
       "// Listen for the removal of the full notebook cells\n",
       "var notebookContainer = gd.closest('#notebook-container');\n",
       "if (notebookContainer) {{\n",
       "    x.observe(notebookContainer, {childList: true});\n",
       "}}\n",
       "\n",
       "// Listen for the clearing of the current output cell\n",
       "var outputEl = gd.closest('.output');\n",
       "if (outputEl) {{\n",
       "    x.observe(outputEl, {childList: true});\n",
       "}}\n",
       "\n",
       "                        })\n",
       "                };\n",
       "                });\n",
       "            </script>\n",
       "        </div>"
      ]
     },
     "metadata": {},
     "output_type": "display_data"
    }
   ],
   "source": [
    "data1.iplot(kind='bar', x='Country', xTitle='Country',\n",
    "           yTitle='Total', title='Total Quantity and Revenue by Country(excluded UK) April 2011')"
   ]
  },
  {
   "cell_type": "markdown",
   "metadata": {},
   "source": [
    "## 2. Create an interactive line chart showing quantity and revenue sold to France between January 1st and May 31st 2011."
   ]
  },
  {
   "cell_type": "code",
   "execution_count": 18,
   "metadata": {},
   "outputs": [],
   "source": [
    "data2 = data[(data['Country']=='France')  & (data['InvoiceDate'] >= '2011-01-01 00:00:00') & (data['InvoiceDate'] <= '2011-05-31 23:59:59')]\n",
    "data2 = data2.groupby('InvoiceDate')[['Quantity','Revenue']].sum()\n",
    "data2 = data2.reset_index()"
   ]
  },
  {
   "cell_type": "code",
   "execution_count": 19,
   "metadata": {},
   "outputs": [
    {
     "data": {
      "application/vnd.plotly.v1+json": {
       "config": {
        "linkText": "Export to plot.ly",
        "plotlyServerURL": "https://plot.ly",
        "showLink": true
       },
       "data": [
        {
         "line": {
          "color": "rgba(255, 153, 51, 1.0)",
          "dash": "solid",
          "shape": "linear",
          "width": 1.3
         },
         "mode": "lines",
         "name": "Quantity",
         "text": "",
         "type": "scatter",
         "uid": "42bfefb9-4add-46b0-8f5f-4dd16ece1a1e",
         "x": [
          "2011-01-05 12:42:00",
          "2011-01-05 14:48:00",
          "2011-01-06 14:26:00",
          "2011-01-06 16:12:00",
          "2011-01-07 12:07:00",
          "2011-01-07 13:13:00",
          "2011-01-09 12:46:00",
          "2011-01-10 13:22:00",
          "2011-01-11 07:57:00",
          "2011-01-11 11:48:00",
          "2011-01-11 13:31:00",
          "2011-01-11 15:00:00",
          "2011-01-12 09:43:00",
          "2011-01-12 14:13:00",
          "2011-01-12 15:00:00",
          "2011-01-14 09:13:00",
          "2011-01-14 09:20:00",
          "2011-01-14 10:42:00",
          "2011-01-17 15:17:00",
          "2011-01-19 11:51:00",
          "2011-01-20 10:47:00",
          "2011-01-20 10:48:00",
          "2011-01-23 15:17:00",
          "2011-01-24 15:32:00",
          "2011-01-28 09:20:00",
          "2011-01-28 10:45:00",
          "2011-01-28 13:37:00",
          "2011-01-31 09:57:00",
          "2011-01-31 15:36:00",
          "2011-02-01 14:58:00",
          "2011-02-02 09:06:00",
          "2011-02-02 15:22:00",
          "2011-02-04 11:45:00",
          "2011-02-08 13:28:00",
          "2011-02-09 10:11:00",
          "2011-02-10 15:38:00",
          "2011-02-15 14:17:00",
          "2011-02-16 11:45:00",
          "2011-02-17 10:08:00",
          "2011-02-18 10:53:00",
          "2011-02-18 15:23:00",
          "2011-02-21 08:38:00",
          "2011-02-21 14:58:00",
          "2011-02-23 16:44:00",
          "2011-02-23 16:45:00",
          "2011-02-27 11:58:00",
          "2011-02-28 11:43:00",
          "2011-02-28 11:58:00",
          "2011-02-28 14:42:00",
          "2011-02-28 14:45:00",
          "2011-03-01 10:31:00",
          "2011-03-01 12:26:00",
          "2011-03-03 12:06:00",
          "2011-03-03 12:20:00",
          "2011-03-04 09:08:00",
          "2011-03-11 12:00:00",
          "2011-03-13 14:55:00",
          "2011-03-14 11:38:00",
          "2011-03-15 16:39:00",
          "2011-03-16 14:37:00",
          "2011-03-16 15:17:00",
          "2011-03-20 15:58:00",
          "2011-03-21 12:42:00",
          "2011-03-21 12:44:00",
          "2011-03-22 11:28:00",
          "2011-03-23 12:06:00",
          "2011-03-23 13:33:00",
          "2011-03-23 13:39:00",
          "2011-03-23 14:55:00",
          "2011-03-25 10:19:00",
          "2011-03-27 13:07:00",
          "2011-03-28 10:15:00",
          "2011-03-31 10:27:00",
          "2011-03-31 10:29:00",
          "2011-03-31 13:40:00",
          "2011-04-01 09:19:00",
          "2011-04-01 11:10:00",
          "2011-04-04 11:18:00",
          "2011-04-07 13:07:00",
          "2011-04-14 14:15:00",
          "2011-04-17 11:21:00",
          "2011-04-17 15:33:00",
          "2011-04-20 09:20:00",
          "2011-04-21 08:54:00",
          "2011-04-21 10:16:00",
          "2011-04-26 15:52:00",
          "2011-04-28 11:45:00",
          "2011-05-03 08:40:00",
          "2011-05-03 09:33:00",
          "2011-05-03 09:34:00",
          "2011-05-03 12:02:00",
          "2011-05-03 12:03:00",
          "2011-05-05 09:29:00",
          "2011-05-08 16:10:00",
          "2011-05-09 09:47:00",
          "2011-05-09 15:12:00",
          "2011-05-10 12:55:00",
          "2011-05-11 13:20:00",
          "2011-05-11 15:07:00",
          "2011-05-12 11:50:00",
          "2011-05-13 09:24:00",
          "2011-05-13 13:15:00",
          "2011-05-13 15:48:00",
          "2011-05-15 13:45:00",
          "2011-05-16 09:10:00",
          "2011-05-16 12:04:00",
          "2011-05-17 09:28:00",
          "2011-05-18 09:09:00",
          "2011-05-18 10:34:00",
          "2011-05-18 12:18:00",
          "2011-05-19 12:10:00",
          "2011-05-19 12:29:00",
          "2011-05-20 11:34:00",
          "2011-05-22 13:01:00",
          "2011-05-22 14:33:00",
          "2011-05-23 09:48:00",
          "2011-05-24 09:25:00",
          "2011-05-25 10:08:00",
          "2011-05-25 12:44:00",
          "2011-05-25 12:54:00",
          "2011-05-26 14:53:00",
          "2011-05-26 17:16:00",
          "2011-05-27 13:49:00",
          "2011-05-31 13:32:00"
         ],
         "y": [
          359,
          369,
          261,
          177,
          488,
          103,
          78,
          628,
          168,
          576,
          120,
          114,
          43,
          131,
          498,
          543,
          78,
          440,
          263,
          383,
          211,
          491,
          120,
          84,
          59,
          406,
          102,
          1617,
          202,
          197,
          159,
          206,
          611,
          214,
          298,
          452,
          96,
          772,
          114,
          748,
          15,
          256,
          77,
          264,
          96,
          70,
          213,
          310,
          72,
          54,
          245,
          329,
          314,
          24,
          123,
          323,
          183,
          184,
          314,
          97,
          62,
          422,
          85,
          5,
          198,
          136,
          713,
          242,
          130,
          261,
          59,
          842,
          946,
          132,
          2271,
          88,
          240,
          293,
          236,
          284,
          375,
          25,
          196,
          23,
          275,
          84,
          146,
          368,
          350,
          6,
          120,
          192,
          98,
          773,
          162,
          332,
          458,
          859,
          734,
          105,
          202,
          33,
          267,
          140,
          220,
          58,
          476,
          103,
          152,
          72,
          434,
          126,
          464,
          229,
          62,
          304,
          208,
          180,
          180,
          374,
          86,
          424,
          155,
          200
         ]
        },
        {
         "line": {
          "color": "rgba(55, 128, 191, 1.0)",
          "dash": "solid",
          "shape": "linear",
          "width": 1.3
         },
         "mode": "lines",
         "name": "Revenue",
         "text": "",
         "type": "scatter",
         "uid": "2b84d6c7-f34a-4b6f-a618-0af89c522256",
         "x": [
          "2011-01-05 12:42:00",
          "2011-01-05 14:48:00",
          "2011-01-06 14:26:00",
          "2011-01-06 16:12:00",
          "2011-01-07 12:07:00",
          "2011-01-07 13:13:00",
          "2011-01-09 12:46:00",
          "2011-01-10 13:22:00",
          "2011-01-11 07:57:00",
          "2011-01-11 11:48:00",
          "2011-01-11 13:31:00",
          "2011-01-11 15:00:00",
          "2011-01-12 09:43:00",
          "2011-01-12 14:13:00",
          "2011-01-12 15:00:00",
          "2011-01-14 09:13:00",
          "2011-01-14 09:20:00",
          "2011-01-14 10:42:00",
          "2011-01-17 15:17:00",
          "2011-01-19 11:51:00",
          "2011-01-20 10:47:00",
          "2011-01-20 10:48:00",
          "2011-01-23 15:17:00",
          "2011-01-24 15:32:00",
          "2011-01-28 09:20:00",
          "2011-01-28 10:45:00",
          "2011-01-28 13:37:00",
          "2011-01-31 09:57:00",
          "2011-01-31 15:36:00",
          "2011-02-01 14:58:00",
          "2011-02-02 09:06:00",
          "2011-02-02 15:22:00",
          "2011-02-04 11:45:00",
          "2011-02-08 13:28:00",
          "2011-02-09 10:11:00",
          "2011-02-10 15:38:00",
          "2011-02-15 14:17:00",
          "2011-02-16 11:45:00",
          "2011-02-17 10:08:00",
          "2011-02-18 10:53:00",
          "2011-02-18 15:23:00",
          "2011-02-21 08:38:00",
          "2011-02-21 14:58:00",
          "2011-02-23 16:44:00",
          "2011-02-23 16:45:00",
          "2011-02-27 11:58:00",
          "2011-02-28 11:43:00",
          "2011-02-28 11:58:00",
          "2011-02-28 14:42:00",
          "2011-02-28 14:45:00",
          "2011-03-01 10:31:00",
          "2011-03-01 12:26:00",
          "2011-03-03 12:06:00",
          "2011-03-03 12:20:00",
          "2011-03-04 09:08:00",
          "2011-03-11 12:00:00",
          "2011-03-13 14:55:00",
          "2011-03-14 11:38:00",
          "2011-03-15 16:39:00",
          "2011-03-16 14:37:00",
          "2011-03-16 15:17:00",
          "2011-03-20 15:58:00",
          "2011-03-21 12:42:00",
          "2011-03-21 12:44:00",
          "2011-03-22 11:28:00",
          "2011-03-23 12:06:00",
          "2011-03-23 13:33:00",
          "2011-03-23 13:39:00",
          "2011-03-23 14:55:00",
          "2011-03-25 10:19:00",
          "2011-03-27 13:07:00",
          "2011-03-28 10:15:00",
          "2011-03-31 10:27:00",
          "2011-03-31 10:29:00",
          "2011-03-31 13:40:00",
          "2011-04-01 09:19:00",
          "2011-04-01 11:10:00",
          "2011-04-04 11:18:00",
          "2011-04-07 13:07:00",
          "2011-04-14 14:15:00",
          "2011-04-17 11:21:00",
          "2011-04-17 15:33:00",
          "2011-04-20 09:20:00",
          "2011-04-21 08:54:00",
          "2011-04-21 10:16:00",
          "2011-04-26 15:52:00",
          "2011-04-28 11:45:00",
          "2011-05-03 08:40:00",
          "2011-05-03 09:33:00",
          "2011-05-03 09:34:00",
          "2011-05-03 12:02:00",
          "2011-05-03 12:03:00",
          "2011-05-05 09:29:00",
          "2011-05-08 16:10:00",
          "2011-05-09 09:47:00",
          "2011-05-09 15:12:00",
          "2011-05-10 12:55:00",
          "2011-05-11 13:20:00",
          "2011-05-11 15:07:00",
          "2011-05-12 11:50:00",
          "2011-05-13 09:24:00",
          "2011-05-13 13:15:00",
          "2011-05-13 15:48:00",
          "2011-05-15 13:45:00",
          "2011-05-16 09:10:00",
          "2011-05-16 12:04:00",
          "2011-05-17 09:28:00",
          "2011-05-18 09:09:00",
          "2011-05-18 10:34:00",
          "2011-05-18 12:18:00",
          "2011-05-19 12:10:00",
          "2011-05-19 12:29:00",
          "2011-05-20 11:34:00",
          "2011-05-22 13:01:00",
          "2011-05-22 14:33:00",
          "2011-05-23 09:48:00",
          "2011-05-24 09:25:00",
          "2011-05-25 10:08:00",
          "2011-05-25 12:44:00",
          "2011-05-25 12:54:00",
          "2011-05-26 14:53:00",
          "2011-05-26 17:16:00",
          "2011-05-27 13:49:00",
          "2011-05-31 13:32:00"
         ],
         "y": [
          502.07,
          763.11,
          283.77000000000004,
          425.25,
          676.16,
          298.93,
          113.99999999999999,
          1112.0600000000002,
          144,
          835.1999999999999,
          216.53999999999996,
          136.9,
          102.95,
          338.70000000000005,
          793.9799999999999,
          774.2200000000001,
          225.9,
          592.3100000000001,
          642.1400000000002,
          698.75,
          581.55,
          827.13,
          406.5,
          190.2,
          182.45,
          365.5799999999999,
          405.8,
          3174.43,
          363.54,
          456.84999999999997,
          454.89,
          132.5,
          1128.7299999999998,
          165.85999999999999,
          401.02000000000004,
          285.56,
          219.6,
          829.6600000000002,
          214,
          878.3000000000002,
          6.3,
          603.4200000000001,
          125.4,
          308,
          95.75999999999999,
          92.6,
          335.43,
          612.8599999999999,
          182.72,
          158.5,
          316.19999999999993,
          722.0600000000003,
          480.76000000000005,
          20.4,
          281.25,
          676.85,
          307.28999999999996,
          425.40000000000003,
          511.53999999999996,
          129.70999999999998,
          115.09000000000002,
          298.02,
          201.23999999999995,
          4.63,
          469.9800000000001,
          160.49999999999997,
          733.8800000000002,
          378,
          402.90000000000003,
          303.90999999999997,
          128.05,
          1028.2999999999995,
          1937.0600000000006,
          413.4,
          3243.1299999999997,
          138.75,
          252,
          513.5500000000001,
          312.2,
          615.1999999999999,
          509.57000000000005,
          84.65,
          469.2,
          73.50000000000003,
          579.0500000000001,
          160.54,
          191.1,
          528.8799999999999,
          620.8399999999999,
          24.9,
          162.48000000000002,
          336.24,
          200,
          984.4299999999998,
          295.5,
          205.4,
          453.09999999999997,
          1637.4299999999994,
          1381.3,
          278.53000000000003,
          459.98,
          89.25,
          397.28,
          133.4,
          550.74,
          121.88,
          739.62,
          335.01000000000005,
          332.20000000000005,
          76.32000000000001,
          561.6600000000001,
          316.85,
          956.4000000000001,
          615.21,
          169.5,
          385.96000000000004,
          357.34,
          231.12,
          390.96,
          514.74,
          196.5,
          362,
          367.0899999999999,
          404.84000000000003
         ]
        }
       ],
       "layout": {
        "legend": {
         "bgcolor": "#F5F6F9",
         "font": {
          "color": "#4D5663"
         }
        },
        "paper_bgcolor": "#F5F6F9",
        "plot_bgcolor": "#F5F6F9",
        "title": {
         "font": {
          "color": "#4D5663"
         },
         "text": "Total quantity and revenue sold to France between January 1st and May 31st 2011"
        },
        "xaxis": {
         "gridcolor": "#E1E5ED",
         "showgrid": true,
         "tickfont": {
          "color": "#4D5663"
         },
         "title": {
          "font": {
           "color": "#4D5663"
          },
          "text": "Date"
         },
         "zerolinecolor": "#E1E5ED"
        },
        "yaxis": {
         "gridcolor": "#E1E5ED",
         "showgrid": true,
         "tickfont": {
          "color": "#4D5663"
         },
         "title": {
          "font": {
           "color": "#4D5663"
          },
          "text": "Quantity"
         },
         "zerolinecolor": "#E1E5ED"
        }
       }
      },
      "text/html": [
       "<div>\n",
       "        \n",
       "        \n",
       "            <div id=\"8490d8ae-1dbe-42ed-a96f-a205689d5521\" class=\"plotly-graph-div\" style=\"height:525px; width:100%;\"></div>\n",
       "            <script type=\"text/javascript\">\n",
       "                require([\"plotly\"], function(Plotly) {\n",
       "                    window.PLOTLYENV=window.PLOTLYENV || {};\n",
       "                    window.PLOTLYENV.BASE_URL='https://plot.ly';\n",
       "                    \n",
       "                if (document.getElementById(\"8490d8ae-1dbe-42ed-a96f-a205689d5521\")) {\n",
       "                    Plotly.newPlot(\n",
       "                        '8490d8ae-1dbe-42ed-a96f-a205689d5521',\n",
       "                        [{\"line\": {\"color\": \"rgba(255, 153, 51, 1.0)\", \"dash\": \"solid\", \"shape\": \"linear\", \"width\": 1.3}, \"mode\": \"lines\", \"name\": \"Quantity\", \"text\": \"\", \"type\": \"scatter\", \"uid\": \"42bfefb9-4add-46b0-8f5f-4dd16ece1a1e\", \"x\": [\"2011-01-05 12:42:00\", \"2011-01-05 14:48:00\", \"2011-01-06 14:26:00\", \"2011-01-06 16:12:00\", \"2011-01-07 12:07:00\", \"2011-01-07 13:13:00\", \"2011-01-09 12:46:00\", \"2011-01-10 13:22:00\", \"2011-01-11 07:57:00\", \"2011-01-11 11:48:00\", \"2011-01-11 13:31:00\", \"2011-01-11 15:00:00\", \"2011-01-12 09:43:00\", \"2011-01-12 14:13:00\", \"2011-01-12 15:00:00\", \"2011-01-14 09:13:00\", \"2011-01-14 09:20:00\", \"2011-01-14 10:42:00\", \"2011-01-17 15:17:00\", \"2011-01-19 11:51:00\", \"2011-01-20 10:47:00\", \"2011-01-20 10:48:00\", \"2011-01-23 15:17:00\", \"2011-01-24 15:32:00\", \"2011-01-28 09:20:00\", \"2011-01-28 10:45:00\", \"2011-01-28 13:37:00\", \"2011-01-31 09:57:00\", \"2011-01-31 15:36:00\", \"2011-02-01 14:58:00\", \"2011-02-02 09:06:00\", \"2011-02-02 15:22:00\", \"2011-02-04 11:45:00\", \"2011-02-08 13:28:00\", \"2011-02-09 10:11:00\", \"2011-02-10 15:38:00\", \"2011-02-15 14:17:00\", \"2011-02-16 11:45:00\", \"2011-02-17 10:08:00\", \"2011-02-18 10:53:00\", \"2011-02-18 15:23:00\", \"2011-02-21 08:38:00\", \"2011-02-21 14:58:00\", \"2011-02-23 16:44:00\", \"2011-02-23 16:45:00\", \"2011-02-27 11:58:00\", \"2011-02-28 11:43:00\", \"2011-02-28 11:58:00\", \"2011-02-28 14:42:00\", \"2011-02-28 14:45:00\", \"2011-03-01 10:31:00\", \"2011-03-01 12:26:00\", \"2011-03-03 12:06:00\", \"2011-03-03 12:20:00\", \"2011-03-04 09:08:00\", \"2011-03-11 12:00:00\", \"2011-03-13 14:55:00\", \"2011-03-14 11:38:00\", \"2011-03-15 16:39:00\", \"2011-03-16 14:37:00\", \"2011-03-16 15:17:00\", \"2011-03-20 15:58:00\", \"2011-03-21 12:42:00\", \"2011-03-21 12:44:00\", \"2011-03-22 11:28:00\", \"2011-03-23 12:06:00\", \"2011-03-23 13:33:00\", \"2011-03-23 13:39:00\", \"2011-03-23 14:55:00\", \"2011-03-25 10:19:00\", \"2011-03-27 13:07:00\", \"2011-03-28 10:15:00\", \"2011-03-31 10:27:00\", \"2011-03-31 10:29:00\", \"2011-03-31 13:40:00\", \"2011-04-01 09:19:00\", \"2011-04-01 11:10:00\", \"2011-04-04 11:18:00\", \"2011-04-07 13:07:00\", \"2011-04-14 14:15:00\", \"2011-04-17 11:21:00\", \"2011-04-17 15:33:00\", \"2011-04-20 09:20:00\", \"2011-04-21 08:54:00\", \"2011-04-21 10:16:00\", \"2011-04-26 15:52:00\", \"2011-04-28 11:45:00\", \"2011-05-03 08:40:00\", \"2011-05-03 09:33:00\", \"2011-05-03 09:34:00\", \"2011-05-03 12:02:00\", \"2011-05-03 12:03:00\", \"2011-05-05 09:29:00\", \"2011-05-08 16:10:00\", \"2011-05-09 09:47:00\", \"2011-05-09 15:12:00\", \"2011-05-10 12:55:00\", \"2011-05-11 13:20:00\", \"2011-05-11 15:07:00\", \"2011-05-12 11:50:00\", \"2011-05-13 09:24:00\", \"2011-05-13 13:15:00\", \"2011-05-13 15:48:00\", \"2011-05-15 13:45:00\", \"2011-05-16 09:10:00\", \"2011-05-16 12:04:00\", \"2011-05-17 09:28:00\", \"2011-05-18 09:09:00\", \"2011-05-18 10:34:00\", \"2011-05-18 12:18:00\", \"2011-05-19 12:10:00\", \"2011-05-19 12:29:00\", \"2011-05-20 11:34:00\", \"2011-05-22 13:01:00\", \"2011-05-22 14:33:00\", \"2011-05-23 09:48:00\", \"2011-05-24 09:25:00\", \"2011-05-25 10:08:00\", \"2011-05-25 12:44:00\", \"2011-05-25 12:54:00\", \"2011-05-26 14:53:00\", \"2011-05-26 17:16:00\", \"2011-05-27 13:49:00\", \"2011-05-31 13:32:00\"], \"y\": [359, 369, 261, 177, 488, 103, 78, 628, 168, 576, 120, 114, 43, 131, 498, 543, 78, 440, 263, 383, 211, 491, 120, 84, 59, 406, 102, 1617, 202, 197, 159, 206, 611, 214, 298, 452, 96, 772, 114, 748, 15, 256, 77, 264, 96, 70, 213, 310, 72, 54, 245, 329, 314, 24, 123, 323, 183, 184, 314, 97, 62, 422, 85, 5, 198, 136, 713, 242, 130, 261, 59, 842, 946, 132, 2271, 88, 240, 293, 236, 284, 375, 25, 196, 23, 275, 84, 146, 368, 350, 6, 120, 192, 98, 773, 162, 332, 458, 859, 734, 105, 202, 33, 267, 140, 220, 58, 476, 103, 152, 72, 434, 126, 464, 229, 62, 304, 208, 180, 180, 374, 86, 424, 155, 200]}, {\"line\": {\"color\": \"rgba(55, 128, 191, 1.0)\", \"dash\": \"solid\", \"shape\": \"linear\", \"width\": 1.3}, \"mode\": \"lines\", \"name\": \"Revenue\", \"text\": \"\", \"type\": \"scatter\", \"uid\": \"2b84d6c7-f34a-4b6f-a618-0af89c522256\", \"x\": [\"2011-01-05 12:42:00\", \"2011-01-05 14:48:00\", \"2011-01-06 14:26:00\", \"2011-01-06 16:12:00\", \"2011-01-07 12:07:00\", \"2011-01-07 13:13:00\", \"2011-01-09 12:46:00\", \"2011-01-10 13:22:00\", \"2011-01-11 07:57:00\", \"2011-01-11 11:48:00\", \"2011-01-11 13:31:00\", \"2011-01-11 15:00:00\", \"2011-01-12 09:43:00\", \"2011-01-12 14:13:00\", \"2011-01-12 15:00:00\", \"2011-01-14 09:13:00\", \"2011-01-14 09:20:00\", \"2011-01-14 10:42:00\", \"2011-01-17 15:17:00\", \"2011-01-19 11:51:00\", \"2011-01-20 10:47:00\", \"2011-01-20 10:48:00\", \"2011-01-23 15:17:00\", \"2011-01-24 15:32:00\", \"2011-01-28 09:20:00\", \"2011-01-28 10:45:00\", \"2011-01-28 13:37:00\", \"2011-01-31 09:57:00\", \"2011-01-31 15:36:00\", \"2011-02-01 14:58:00\", \"2011-02-02 09:06:00\", \"2011-02-02 15:22:00\", \"2011-02-04 11:45:00\", \"2011-02-08 13:28:00\", \"2011-02-09 10:11:00\", \"2011-02-10 15:38:00\", \"2011-02-15 14:17:00\", \"2011-02-16 11:45:00\", \"2011-02-17 10:08:00\", \"2011-02-18 10:53:00\", \"2011-02-18 15:23:00\", \"2011-02-21 08:38:00\", \"2011-02-21 14:58:00\", \"2011-02-23 16:44:00\", \"2011-02-23 16:45:00\", \"2011-02-27 11:58:00\", \"2011-02-28 11:43:00\", \"2011-02-28 11:58:00\", \"2011-02-28 14:42:00\", \"2011-02-28 14:45:00\", \"2011-03-01 10:31:00\", \"2011-03-01 12:26:00\", \"2011-03-03 12:06:00\", \"2011-03-03 12:20:00\", \"2011-03-04 09:08:00\", \"2011-03-11 12:00:00\", \"2011-03-13 14:55:00\", \"2011-03-14 11:38:00\", \"2011-03-15 16:39:00\", \"2011-03-16 14:37:00\", \"2011-03-16 15:17:00\", \"2011-03-20 15:58:00\", \"2011-03-21 12:42:00\", \"2011-03-21 12:44:00\", \"2011-03-22 11:28:00\", \"2011-03-23 12:06:00\", \"2011-03-23 13:33:00\", \"2011-03-23 13:39:00\", \"2011-03-23 14:55:00\", \"2011-03-25 10:19:00\", \"2011-03-27 13:07:00\", \"2011-03-28 10:15:00\", \"2011-03-31 10:27:00\", \"2011-03-31 10:29:00\", \"2011-03-31 13:40:00\", \"2011-04-01 09:19:00\", \"2011-04-01 11:10:00\", \"2011-04-04 11:18:00\", \"2011-04-07 13:07:00\", \"2011-04-14 14:15:00\", \"2011-04-17 11:21:00\", \"2011-04-17 15:33:00\", \"2011-04-20 09:20:00\", \"2011-04-21 08:54:00\", \"2011-04-21 10:16:00\", \"2011-04-26 15:52:00\", \"2011-04-28 11:45:00\", \"2011-05-03 08:40:00\", \"2011-05-03 09:33:00\", \"2011-05-03 09:34:00\", \"2011-05-03 12:02:00\", \"2011-05-03 12:03:00\", \"2011-05-05 09:29:00\", \"2011-05-08 16:10:00\", \"2011-05-09 09:47:00\", \"2011-05-09 15:12:00\", \"2011-05-10 12:55:00\", \"2011-05-11 13:20:00\", \"2011-05-11 15:07:00\", \"2011-05-12 11:50:00\", \"2011-05-13 09:24:00\", \"2011-05-13 13:15:00\", \"2011-05-13 15:48:00\", \"2011-05-15 13:45:00\", \"2011-05-16 09:10:00\", \"2011-05-16 12:04:00\", \"2011-05-17 09:28:00\", \"2011-05-18 09:09:00\", \"2011-05-18 10:34:00\", \"2011-05-18 12:18:00\", \"2011-05-19 12:10:00\", \"2011-05-19 12:29:00\", \"2011-05-20 11:34:00\", \"2011-05-22 13:01:00\", \"2011-05-22 14:33:00\", \"2011-05-23 09:48:00\", \"2011-05-24 09:25:00\", \"2011-05-25 10:08:00\", \"2011-05-25 12:44:00\", \"2011-05-25 12:54:00\", \"2011-05-26 14:53:00\", \"2011-05-26 17:16:00\", \"2011-05-27 13:49:00\", \"2011-05-31 13:32:00\"], \"y\": [502.07, 763.11, 283.77000000000004, 425.25, 676.16, 298.93, 113.99999999999999, 1112.0600000000002, 144.0, 835.1999999999999, 216.53999999999996, 136.9, 102.95, 338.70000000000005, 793.9799999999999, 774.2200000000001, 225.9, 592.3100000000001, 642.1400000000002, 698.75, 581.55, 827.13, 406.5, 190.2, 182.45, 365.5799999999999, 405.8, 3174.43, 363.54, 456.84999999999997, 454.89, 132.5, 1128.7299999999998, 165.85999999999999, 401.02000000000004, 285.56, 219.6, 829.6600000000002, 214.0, 878.3000000000002, 6.3, 603.4200000000001, 125.4, 308.0, 95.75999999999999, 92.6, 335.43, 612.8599999999999, 182.72, 158.5, 316.19999999999993, 722.0600000000003, 480.76000000000005, 20.4, 281.25, 676.85, 307.28999999999996, 425.40000000000003, 511.53999999999996, 129.70999999999998, 115.09000000000002, 298.02, 201.23999999999995, 4.63, 469.9800000000001, 160.49999999999997, 733.8800000000002, 378.0, 402.90000000000003, 303.90999999999997, 128.05, 1028.2999999999995, 1937.0600000000006, 413.4, 3243.1299999999997, 138.75, 252.0, 513.5500000000001, 312.2, 615.1999999999999, 509.57000000000005, 84.65, 469.2, 73.50000000000003, 579.0500000000001, 160.54, 191.1, 528.8799999999999, 620.8399999999999, 24.9, 162.48000000000002, 336.24, 200.0, 984.4299999999998, 295.5, 205.4, 453.09999999999997, 1637.4299999999994, 1381.3, 278.53000000000003, 459.98, 89.25, 397.28, 133.4, 550.74, 121.88, 739.62, 335.01000000000005, 332.20000000000005, 76.32000000000001, 561.6600000000001, 316.85, 956.4000000000001, 615.21, 169.5, 385.96000000000004, 357.34, 231.12, 390.96, 514.74, 196.5, 362.0, 367.0899999999999, 404.84000000000003]}],\n",
       "                        {\"legend\": {\"bgcolor\": \"#F5F6F9\", \"font\": {\"color\": \"#4D5663\"}}, \"paper_bgcolor\": \"#F5F6F9\", \"plot_bgcolor\": \"#F5F6F9\", \"title\": {\"font\": {\"color\": \"#4D5663\"}, \"text\": \"Total quantity and revenue sold to France between January 1st and May 31st 2011\"}, \"xaxis\": {\"gridcolor\": \"#E1E5ED\", \"showgrid\": true, \"tickfont\": {\"color\": \"#4D5663\"}, \"title\": {\"font\": {\"color\": \"#4D5663\"}, \"text\": \"Date\"}, \"zerolinecolor\": \"#E1E5ED\"}, \"yaxis\": {\"gridcolor\": \"#E1E5ED\", \"showgrid\": true, \"tickfont\": {\"color\": \"#4D5663\"}, \"title\": {\"font\": {\"color\": \"#4D5663\"}, \"text\": \"Quantity\"}, \"zerolinecolor\": \"#E1E5ED\"}},\n",
       "                        {\"showLink\": true, \"linkText\": \"Export to plot.ly\", \"plotlyServerURL\": \"https://plot.ly\", \"responsive\": true}\n",
       "                    ).then(function(){\n",
       "                            \n",
       "var gd = document.getElementById('8490d8ae-1dbe-42ed-a96f-a205689d5521');\n",
       "var x = new MutationObserver(function (mutations, observer) {{\n",
       "        var display = window.getComputedStyle(gd).display;\n",
       "        if (!display || display === 'none') {{\n",
       "            console.log([gd, 'removed!']);\n",
       "            Plotly.purge(gd);\n",
       "            observer.disconnect();\n",
       "        }}\n",
       "}});\n",
       "\n",
       "// Listen for the removal of the full notebook cells\n",
       "var notebookContainer = gd.closest('#notebook-container');\n",
       "if (notebookContainer) {{\n",
       "    x.observe(notebookContainer, {childList: true});\n",
       "}}\n",
       "\n",
       "// Listen for the clearing of the current output cell\n",
       "var outputEl = gd.closest('.output');\n",
       "if (outputEl) {{\n",
       "    x.observe(outputEl, {childList: true});\n",
       "}}\n",
       "\n",
       "                        })\n",
       "                };\n",
       "                });\n",
       "            </script>\n",
       "        </div>"
      ]
     },
     "metadata": {},
     "output_type": "display_data"
    }
   ],
   "source": [
    "data2.iplot(kind='line', x='InvoiceDate', xTitle='Date',yTitle='Quantity', title='Total quantity and revenue sold to France between January 1st and May 31st 2011')"
   ]
  },
  {
   "cell_type": "markdown",
   "metadata": {},
   "source": [
    "## 3. Create an interactive scatter plot showing the relationship between average quantity (x-axis) and average unit price (y-axis) for the product PARTY BUNTING with the plot points color-coded by country (categories)."
   ]
  },
  {
   "cell_type": "code",
   "execution_count": 11,
   "metadata": {},
   "outputs": [
    {
     "data": {
      "text/plain": [
       "Index(['InvoiceNo', 'InvoiceDate', 'StockCode', 'Description', 'Quantity',\n",
       "       'UnitPrice', 'Revenue', 'CustomerID', 'Country'],\n",
       "      dtype='object')"
      ]
     },
     "execution_count": 11,
     "metadata": {},
     "output_type": "execute_result"
    }
   ],
   "source": [
    "data.columns"
   ]
  },
  {
   "cell_type": "code",
   "execution_count": 20,
   "metadata": {},
   "outputs": [],
   "source": [
    "data3 = data[['Quantity','UnitPrice','Country']][data['Description']=='PARTY BUNTING']\n",
    "data3 = data3.groupby('Country')[['Quantity','UnitPrice']].mean()\n",
    "data3 = data3.reset_index()"
   ]
  },
  {
   "cell_type": "code",
   "execution_count": 21,
   "metadata": {},
   "outputs": [
    {
     "data": {
      "application/vnd.plotly.v1+json": {
       "config": {
        "linkText": "Export to plot.ly",
        "plotlyServerURL": "https://plot.ly",
        "showLink": true
       },
       "data": [
        {
         "marker": {
          "color": "rgba(255, 153, 51, 1.0)",
          "line": {
           "width": 1.3
          },
          "opacity": 0.8,
          "size": 12,
          "symbol": "circle"
         },
         "mode": "markers",
         "name": "Australia",
         "textfont": {
          "color": "#4D5663"
         },
         "type": "scatter",
         "uid": "652296f8-64d2-47e5-aee7-a2a68ba3a3ec",
         "x": [
          33.125
         ],
         "y": [
          4.7125
         ]
        },
        {
         "marker": {
          "color": "rgba(55, 128, 191, 1.0)",
          "line": {
           "width": 1.3
          },
          "opacity": 0.8,
          "size": 12,
          "symbol": "circle"
         },
         "mode": "markers",
         "name": "Austria",
         "textfont": {
          "color": "#4D5663"
         },
         "type": "scatter",
         "uid": "4186bc20-bd4f-49dd-9fed-790ad9877467",
         "x": [
          8
         ],
         "y": [
          4.95
         ]
        },
        {
         "marker": {
          "color": "rgba(50, 171, 96, 1.0)",
          "line": {
           "width": 1.3
          },
          "opacity": 0.8,
          "size": 12,
          "symbol": "circle"
         },
         "mode": "markers",
         "name": "Belgium",
         "textfont": {
          "color": "#4D5663"
         },
         "type": "scatter",
         "uid": "6a093da4-c1e7-4627-9edb-d0fa6ea25699",
         "x": [
          4
         ],
         "y": [
          4.95
         ]
        },
        {
         "marker": {
          "color": "rgba(128, 0, 128, 1.0)",
          "line": {
           "width": 1.3
          },
          "opacity": 0.8,
          "size": 12,
          "symbol": "circle"
         },
         "mode": "markers",
         "name": "Channel Islands",
         "textfont": {
          "color": "#4D5663"
         },
         "type": "scatter",
         "uid": "d1a2cec8-c8f6-47fe-8ff0-e1f7aadb5933",
         "x": [
          13.333333333333334
         ],
         "y": [
          4.95
         ]
        },
        {
         "marker": {
          "color": "rgba(219, 64, 82, 1.0)",
          "line": {
           "width": 1.3
          },
          "opacity": 0.8,
          "size": 12,
          "symbol": "circle"
         },
         "mode": "markers",
         "name": "Cyprus",
         "textfont": {
          "color": "#4D5663"
         },
         "type": "scatter",
         "uid": "453518df-f8a2-410a-a5ad-ff8a61dc5e4e",
         "x": [
          2.3333333333333335
         ],
         "y": [
          4.75
         ]
        },
        {
         "marker": {
          "color": "rgba(0, 128, 128, 1.0)",
          "line": {
           "width": 1.3
          },
          "opacity": 0.8,
          "size": 12,
          "symbol": "circle"
         },
         "mode": "markers",
         "name": "Denmark",
         "textfont": {
          "color": "#4D5663"
         },
         "type": "scatter",
         "uid": "5ac8e759-3397-4234-80ab-2868341fe628",
         "x": [
          12
         ],
         "y": [
          4.95
         ]
        },
        {
         "marker": {
          "color": "rgba(255, 255, 51, 1.0)",
          "line": {
           "width": 1.3
          },
          "opacity": 0.8,
          "size": 12,
          "symbol": "circle"
         },
         "mode": "markers",
         "name": "EIRE",
         "textfont": {
          "color": "#4D5663"
         },
         "type": "scatter",
         "uid": "1b016fde-7bbf-401b-a1c7-56d6933366d2",
         "x": [
          21.210526315789473
         ],
         "y": [
          4.739473684210528
         ]
        },
        {
         "marker": {
          "color": "rgba(128, 128, 0, 1.0)",
          "line": {
           "width": 1.3
          },
          "opacity": 0.8,
          "size": 12,
          "symbol": "circle"
         },
         "mode": "markers",
         "name": "Finland",
         "textfont": {
          "color": "#4D5663"
         },
         "type": "scatter",
         "uid": "8b771ade-e72c-4c4a-bb8f-c015f9545265",
         "x": [
          6
         ],
         "y": [
          4.95
         ]
        },
        {
         "marker": {
          "color": "rgba(251, 128, 114, 1.0)",
          "line": {
           "width": 1.3
          },
          "opacity": 0.8,
          "size": 12,
          "symbol": "circle"
         },
         "mode": "markers",
         "name": "France",
         "textfont": {
          "color": "#4D5663"
         },
         "type": "scatter",
         "uid": "f9037c0c-d449-4243-9fe5-924a2fb13e2a",
         "x": [
          5.7272727272727275
         ],
         "y": [
          4.922727272727275
         ]
        },
        {
         "marker": {
          "color": "rgba(128, 177, 211, 1.0)",
          "line": {
           "width": 1.3
          },
          "opacity": 0.8,
          "size": 12,
          "symbol": "circle"
         },
         "mode": "markers",
         "name": "Germany",
         "textfont": {
          "color": "#4D5663"
         },
         "type": "scatter",
         "uid": "fcf6df6d-14f1-41f9-a851-dd8a5fa328a3",
         "x": [
          6.8
         ],
         "y": [
          4.89
         ]
        },
        {
         "marker": {
          "color": "rgba(128, 177, 211, 0.8999999999999999)",
          "line": {
           "width": 1.3
          },
          "opacity": 0.8,
          "size": 12,
          "symbol": "circle"
         },
         "mode": "markers",
         "name": "Israel",
         "textfont": {
          "color": "#4D5663"
         },
         "type": "scatter",
         "uid": "9a211cb4-f9cc-4fcd-9861-000727b959e4",
         "x": [
          1
         ],
         "y": [
          4.95
         ]
        },
        {
         "marker": {
          "color": "rgba(255, 153, 51, 0.8999999999999999)",
          "line": {
           "width": 1.3
          },
          "opacity": 0.8,
          "size": 12,
          "symbol": "circle"
         },
         "mode": "markers",
         "name": "Japan",
         "textfont": {
          "color": "#4D5663"
         },
         "type": "scatter",
         "uid": "16d6d140-661c-49ff-bef6-c78ed47436ec",
         "x": [
          56.666666666666664
         ],
         "y": [
          4.183333333333334
         ]
        },
        {
         "marker": {
          "color": "rgba(55, 128, 191, 0.8999999999999999)",
          "line": {
           "width": 1.3
          },
          "opacity": 0.8,
          "size": 12,
          "symbol": "circle"
         },
         "mode": "markers",
         "name": "Lebanon",
         "textfont": {
          "color": "#4D5663"
         },
         "type": "scatter",
         "uid": "213ea2b3-f3d0-46ad-b602-497f39d18222",
         "x": [
          15
         ],
         "y": [
          4.65
         ]
        },
        {
         "marker": {
          "color": "rgba(50, 171, 96, 0.8999999999999999)",
          "line": {
           "width": 1.3
          },
          "opacity": 0.8,
          "size": 12,
          "symbol": "circle"
         },
         "mode": "markers",
         "name": "Netherlands",
         "textfont": {
          "color": "#4D5663"
         },
         "type": "scatter",
         "uid": "4daa6366-6ec8-47e8-855f-8f8598440398",
         "x": [
          50
         ],
         "y": [
          4.15
         ]
        },
        {
         "marker": {
          "color": "rgba(128, 0, 128, 0.8999999999999999)",
          "line": {
           "width": 1.3
          },
          "opacity": 0.8,
          "size": 12,
          "symbol": "circle"
         },
         "mode": "markers",
         "name": "Norway",
         "textfont": {
          "color": "#4D5663"
         },
         "type": "scatter",
         "uid": "8b994ee4-ea18-4a44-90b5-c01ca48ffe11",
         "x": [
          6
         ],
         "y": [
          4.95
         ]
        },
        {
         "marker": {
          "color": "rgba(219, 64, 82, 0.8999999999999999)",
          "line": {
           "width": 1.3
          },
          "opacity": 0.8,
          "size": 12,
          "symbol": "circle"
         },
         "mode": "markers",
         "name": "Singapore",
         "textfont": {
          "color": "#4D5663"
         },
         "type": "scatter",
         "uid": "85dcece3-1a3c-4ac1-80ab-5b16d1af0af8",
         "x": [
          8
         ],
         "y": [
          4.95
         ]
        },
        {
         "marker": {
          "color": "rgba(0, 128, 128, 0.8999999999999999)",
          "line": {
           "width": 1.3
          },
          "opacity": 0.8,
          "size": 12,
          "symbol": "circle"
         },
         "mode": "markers",
         "name": "South Africa",
         "textfont": {
          "color": "#4D5663"
         },
         "type": "scatter",
         "uid": "3ae519a0-12e6-4ce2-80dd-602ee30ea8a6",
         "x": [
          4
         ],
         "y": [
          4.95
         ]
        },
        {
         "marker": {
          "color": "rgba(255, 255, 51, 0.8999999999999999)",
          "line": {
           "width": 1.3
          },
          "opacity": 0.8,
          "size": 12,
          "symbol": "circle"
         },
         "mode": "markers",
         "name": "Spain",
         "textfont": {
          "color": "#4D5663"
         },
         "type": "scatter",
         "uid": "0513873e-ec34-4d0e-a1ee-913ba7f644b8",
         "x": [
          4.75
         ],
         "y": [
          4.8375
         ]
        },
        {
         "marker": {
          "color": "rgba(128, 128, 0, 0.8999999999999999)",
          "line": {
           "width": 1.3
          },
          "opacity": 0.8,
          "size": 12,
          "symbol": "circle"
         },
         "mode": "markers",
         "name": "Switzerland",
         "textfont": {
          "color": "#4D5663"
         },
         "type": "scatter",
         "uid": "b353633e-def0-4573-ba19-8b84db8da48a",
         "x": [
          17.2
         ],
         "y": [
          4.79
         ]
        },
        {
         "marker": {
          "color": "rgba(251, 128, 114, 0.8999999999999999)",
          "line": {
           "width": 1.3
          },
          "opacity": 0.8,
          "size": 12,
          "symbol": "circle"
         },
         "mode": "markers",
         "name": "United Kingdom",
         "textfont": {
          "color": "#4D5663"
         },
         "type": "scatter",
         "uid": "d1f8bbc3-ddd3-4bb0-bca9-26c0b73a49e8",
         "x": [
          10.705432287681713
         ],
         "y": [
          4.880925784238609
         ]
        }
       ],
       "layout": {
        "legend": {
         "bgcolor": "#F5F6F9",
         "font": {
          "color": "#4D5663"
         }
        },
        "paper_bgcolor": "#F5F6F9",
        "plot_bgcolor": "#F5F6F9",
        "title": {
         "font": {
          "color": "#4D5663"
         },
         "text": "Average quantity and Average unit price for PARTY BUNTING by country"
        },
        "xaxis": {
         "gridcolor": "#E1E5ED",
         "showgrid": true,
         "tickfont": {
          "color": "#4D5663"
         },
         "title": {
          "font": {
           "color": "#4D5663"
          },
          "text": "Average Quantity"
         },
         "zerolinecolor": "#E1E5ED"
        },
        "yaxis": {
         "gridcolor": "#E1E5ED",
         "showgrid": true,
         "tickfont": {
          "color": "#4D5663"
         },
         "title": {
          "font": {
           "color": "#4D5663"
          },
          "text": "Average Unit Price"
         },
         "zerolinecolor": "#E1E5ED"
        }
       }
      },
      "text/html": [
       "<div>\n",
       "        \n",
       "        \n",
       "            <div id=\"e620466c-91e4-4db5-aca9-c400bdc2fad9\" class=\"plotly-graph-div\" style=\"height:525px; width:100%;\"></div>\n",
       "            <script type=\"text/javascript\">\n",
       "                require([\"plotly\"], function(Plotly) {\n",
       "                    window.PLOTLYENV=window.PLOTLYENV || {};\n",
       "                    window.PLOTLYENV.BASE_URL='https://plot.ly';\n",
       "                    \n",
       "                if (document.getElementById(\"e620466c-91e4-4db5-aca9-c400bdc2fad9\")) {\n",
       "                    Plotly.newPlot(\n",
       "                        'e620466c-91e4-4db5-aca9-c400bdc2fad9',\n",
       "                        [{\"marker\": {\"color\": \"rgba(255, 153, 51, 1.0)\", \"line\": {\"width\": 1.3}, \"opacity\": 0.8, \"size\": 12, \"symbol\": \"circle\"}, \"mode\": \"markers\", \"name\": \"Australia\", \"textfont\": {\"color\": \"#4D5663\"}, \"type\": \"scatter\", \"uid\": \"652296f8-64d2-47e5-aee7-a2a68ba3a3ec\", \"x\": [33.125], \"y\": [4.7125]}, {\"marker\": {\"color\": \"rgba(55, 128, 191, 1.0)\", \"line\": {\"width\": 1.3}, \"opacity\": 0.8, \"size\": 12, \"symbol\": \"circle\"}, \"mode\": \"markers\", \"name\": \"Austria\", \"textfont\": {\"color\": \"#4D5663\"}, \"type\": \"scatter\", \"uid\": \"4186bc20-bd4f-49dd-9fed-790ad9877467\", \"x\": [8.0], \"y\": [4.95]}, {\"marker\": {\"color\": \"rgba(50, 171, 96, 1.0)\", \"line\": {\"width\": 1.3}, \"opacity\": 0.8, \"size\": 12, \"symbol\": \"circle\"}, \"mode\": \"markers\", \"name\": \"Belgium\", \"textfont\": {\"color\": \"#4D5663\"}, \"type\": \"scatter\", \"uid\": \"6a093da4-c1e7-4627-9edb-d0fa6ea25699\", \"x\": [4.0], \"y\": [4.95]}, {\"marker\": {\"color\": \"rgba(128, 0, 128, 1.0)\", \"line\": {\"width\": 1.3}, \"opacity\": 0.8, \"size\": 12, \"symbol\": \"circle\"}, \"mode\": \"markers\", \"name\": \"Channel Islands\", \"textfont\": {\"color\": \"#4D5663\"}, \"type\": \"scatter\", \"uid\": \"d1a2cec8-c8f6-47fe-8ff0-e1f7aadb5933\", \"x\": [13.333333333333334], \"y\": [4.95]}, {\"marker\": {\"color\": \"rgba(219, 64, 82, 1.0)\", \"line\": {\"width\": 1.3}, \"opacity\": 0.8, \"size\": 12, \"symbol\": \"circle\"}, \"mode\": \"markers\", \"name\": \"Cyprus\", \"textfont\": {\"color\": \"#4D5663\"}, \"type\": \"scatter\", \"uid\": \"453518df-f8a2-410a-a5ad-ff8a61dc5e4e\", \"x\": [2.3333333333333335], \"y\": [4.75]}, {\"marker\": {\"color\": \"rgba(0, 128, 128, 1.0)\", \"line\": {\"width\": 1.3}, \"opacity\": 0.8, \"size\": 12, \"symbol\": \"circle\"}, \"mode\": \"markers\", \"name\": \"Denmark\", \"textfont\": {\"color\": \"#4D5663\"}, \"type\": \"scatter\", \"uid\": \"5ac8e759-3397-4234-80ab-2868341fe628\", \"x\": [12.0], \"y\": [4.95]}, {\"marker\": {\"color\": \"rgba(255, 255, 51, 1.0)\", \"line\": {\"width\": 1.3}, \"opacity\": 0.8, \"size\": 12, \"symbol\": \"circle\"}, \"mode\": \"markers\", \"name\": \"EIRE\", \"textfont\": {\"color\": \"#4D5663\"}, \"type\": \"scatter\", \"uid\": \"1b016fde-7bbf-401b-a1c7-56d6933366d2\", \"x\": [21.210526315789473], \"y\": [4.739473684210528]}, {\"marker\": {\"color\": \"rgba(128, 128, 0, 1.0)\", \"line\": {\"width\": 1.3}, \"opacity\": 0.8, \"size\": 12, \"symbol\": \"circle\"}, \"mode\": \"markers\", \"name\": \"Finland\", \"textfont\": {\"color\": \"#4D5663\"}, \"type\": \"scatter\", \"uid\": \"8b771ade-e72c-4c4a-bb8f-c015f9545265\", \"x\": [6.0], \"y\": [4.95]}, {\"marker\": {\"color\": \"rgba(251, 128, 114, 1.0)\", \"line\": {\"width\": 1.3}, \"opacity\": 0.8, \"size\": 12, \"symbol\": \"circle\"}, \"mode\": \"markers\", \"name\": \"France\", \"textfont\": {\"color\": \"#4D5663\"}, \"type\": \"scatter\", \"uid\": \"f9037c0c-d449-4243-9fe5-924a2fb13e2a\", \"x\": [5.7272727272727275], \"y\": [4.922727272727275]}, {\"marker\": {\"color\": \"rgba(128, 177, 211, 1.0)\", \"line\": {\"width\": 1.3}, \"opacity\": 0.8, \"size\": 12, \"symbol\": \"circle\"}, \"mode\": \"markers\", \"name\": \"Germany\", \"textfont\": {\"color\": \"#4D5663\"}, \"type\": \"scatter\", \"uid\": \"fcf6df6d-14f1-41f9-a851-dd8a5fa328a3\", \"x\": [6.8], \"y\": [4.89]}, {\"marker\": {\"color\": \"rgba(128, 177, 211, 0.8999999999999999)\", \"line\": {\"width\": 1.3}, \"opacity\": 0.8, \"size\": 12, \"symbol\": \"circle\"}, \"mode\": \"markers\", \"name\": \"Israel\", \"textfont\": {\"color\": \"#4D5663\"}, \"type\": \"scatter\", \"uid\": \"9a211cb4-f9cc-4fcd-9861-000727b959e4\", \"x\": [1.0], \"y\": [4.95]}, {\"marker\": {\"color\": \"rgba(255, 153, 51, 0.8999999999999999)\", \"line\": {\"width\": 1.3}, \"opacity\": 0.8, \"size\": 12, \"symbol\": \"circle\"}, \"mode\": \"markers\", \"name\": \"Japan\", \"textfont\": {\"color\": \"#4D5663\"}, \"type\": \"scatter\", \"uid\": \"16d6d140-661c-49ff-bef6-c78ed47436ec\", \"x\": [56.666666666666664], \"y\": [4.183333333333334]}, {\"marker\": {\"color\": \"rgba(55, 128, 191, 0.8999999999999999)\", \"line\": {\"width\": 1.3}, \"opacity\": 0.8, \"size\": 12, \"symbol\": \"circle\"}, \"mode\": \"markers\", \"name\": \"Lebanon\", \"textfont\": {\"color\": \"#4D5663\"}, \"type\": \"scatter\", \"uid\": \"213ea2b3-f3d0-46ad-b602-497f39d18222\", \"x\": [15.0], \"y\": [4.65]}, {\"marker\": {\"color\": \"rgba(50, 171, 96, 0.8999999999999999)\", \"line\": {\"width\": 1.3}, \"opacity\": 0.8, \"size\": 12, \"symbol\": \"circle\"}, \"mode\": \"markers\", \"name\": \"Netherlands\", \"textfont\": {\"color\": \"#4D5663\"}, \"type\": \"scatter\", \"uid\": \"4daa6366-6ec8-47e8-855f-8f8598440398\", \"x\": [50.0], \"y\": [4.15]}, {\"marker\": {\"color\": \"rgba(128, 0, 128, 0.8999999999999999)\", \"line\": {\"width\": 1.3}, \"opacity\": 0.8, \"size\": 12, \"symbol\": \"circle\"}, \"mode\": \"markers\", \"name\": \"Norway\", \"textfont\": {\"color\": \"#4D5663\"}, \"type\": \"scatter\", \"uid\": \"8b994ee4-ea18-4a44-90b5-c01ca48ffe11\", \"x\": [6.0], \"y\": [4.95]}, {\"marker\": {\"color\": \"rgba(219, 64, 82, 0.8999999999999999)\", \"line\": {\"width\": 1.3}, \"opacity\": 0.8, \"size\": 12, \"symbol\": \"circle\"}, \"mode\": \"markers\", \"name\": \"Singapore\", \"textfont\": {\"color\": \"#4D5663\"}, \"type\": \"scatter\", \"uid\": \"85dcece3-1a3c-4ac1-80ab-5b16d1af0af8\", \"x\": [8.0], \"y\": [4.95]}, {\"marker\": {\"color\": \"rgba(0, 128, 128, 0.8999999999999999)\", \"line\": {\"width\": 1.3}, \"opacity\": 0.8, \"size\": 12, \"symbol\": \"circle\"}, \"mode\": \"markers\", \"name\": \"South Africa\", \"textfont\": {\"color\": \"#4D5663\"}, \"type\": \"scatter\", \"uid\": \"3ae519a0-12e6-4ce2-80dd-602ee30ea8a6\", \"x\": [4.0], \"y\": [4.95]}, {\"marker\": {\"color\": \"rgba(255, 255, 51, 0.8999999999999999)\", \"line\": {\"width\": 1.3}, \"opacity\": 0.8, \"size\": 12, \"symbol\": \"circle\"}, \"mode\": \"markers\", \"name\": \"Spain\", \"textfont\": {\"color\": \"#4D5663\"}, \"type\": \"scatter\", \"uid\": \"0513873e-ec34-4d0e-a1ee-913ba7f644b8\", \"x\": [4.75], \"y\": [4.8375]}, {\"marker\": {\"color\": \"rgba(128, 128, 0, 0.8999999999999999)\", \"line\": {\"width\": 1.3}, \"opacity\": 0.8, \"size\": 12, \"symbol\": \"circle\"}, \"mode\": \"markers\", \"name\": \"Switzerland\", \"textfont\": {\"color\": \"#4D5663\"}, \"type\": \"scatter\", \"uid\": \"b353633e-def0-4573-ba19-8b84db8da48a\", \"x\": [17.2], \"y\": [4.79]}, {\"marker\": {\"color\": \"rgba(251, 128, 114, 0.8999999999999999)\", \"line\": {\"width\": 1.3}, \"opacity\": 0.8, \"size\": 12, \"symbol\": \"circle\"}, \"mode\": \"markers\", \"name\": \"United Kingdom\", \"textfont\": {\"color\": \"#4D5663\"}, \"type\": \"scatter\", \"uid\": \"d1f8bbc3-ddd3-4bb0-bca9-26c0b73a49e8\", \"x\": [10.705432287681713], \"y\": [4.880925784238609]}],\n",
       "                        {\"legend\": {\"bgcolor\": \"#F5F6F9\", \"font\": {\"color\": \"#4D5663\"}}, \"paper_bgcolor\": \"#F5F6F9\", \"plot_bgcolor\": \"#F5F6F9\", \"title\": {\"font\": {\"color\": \"#4D5663\"}, \"text\": \"Average quantity and Average unit price for PARTY BUNTING by country\"}, \"xaxis\": {\"gridcolor\": \"#E1E5ED\", \"showgrid\": true, \"tickfont\": {\"color\": \"#4D5663\"}, \"title\": {\"font\": {\"color\": \"#4D5663\"}, \"text\": \"Average Quantity\"}, \"zerolinecolor\": \"#E1E5ED\"}, \"yaxis\": {\"gridcolor\": \"#E1E5ED\", \"showgrid\": true, \"tickfont\": {\"color\": \"#4D5663\"}, \"title\": {\"font\": {\"color\": \"#4D5663\"}, \"text\": \"Average Unit Price\"}, \"zerolinecolor\": \"#E1E5ED\"}},\n",
       "                        {\"showLink\": true, \"linkText\": \"Export to plot.ly\", \"plotlyServerURL\": \"https://plot.ly\", \"responsive\": true}\n",
       "                    ).then(function(){\n",
       "                            \n",
       "var gd = document.getElementById('e620466c-91e4-4db5-aca9-c400bdc2fad9');\n",
       "var x = new MutationObserver(function (mutations, observer) {{\n",
       "        var display = window.getComputedStyle(gd).display;\n",
       "        if (!display || display === 'none') {{\n",
       "            console.log([gd, 'removed!']);\n",
       "            Plotly.purge(gd);\n",
       "            observer.disconnect();\n",
       "        }}\n",
       "}});\n",
       "\n",
       "// Listen for the removal of the full notebook cells\n",
       "var notebookContainer = gd.closest('#notebook-container');\n",
       "if (notebookContainer) {{\n",
       "    x.observe(notebookContainer, {childList: true});\n",
       "}}\n",
       "\n",
       "// Listen for the clearing of the current output cell\n",
       "var outputEl = gd.closest('.output');\n",
       "if (outputEl) {{\n",
       "    x.observe(outputEl, {childList: true});\n",
       "}}\n",
       "\n",
       "                        })\n",
       "                };\n",
       "                });\n",
       "            </script>\n",
       "        </div>"
      ]
     },
     "metadata": {},
     "output_type": "display_data"
    }
   ],
   "source": [
    "data3.iplot(x='Quantity', y='UnitPrice', categories='Country',\n",
    "           xTitle='Average Quantity', yTitle='Average Unit Price',\n",
    "           title='Average quantity and Average unit price for PARTY BUNTING by country')"
   ]
  },
  {
   "cell_type": "markdown",
   "metadata": {},
   "source": [
    "## 4. Create a set of interactive histograms showing the distributions of quantity per invoice for the following countries: EIRE, Germany, France, and Netherlands."
   ]
  },
  {
   "cell_type": "code",
   "execution_count": 22,
   "metadata": {},
   "outputs": [],
   "source": [
    "selection = ['EIRE', 'Germany', 'France', 'Netherlands']\n",
    "data4 = data[data['Country'].isin(selection)]\n",
    "data4 = data4.pivot_table(values='InvoiceNo', index='Quantity', columns='Country', aggfunc='count')"
   ]
  },
  {
   "cell_type": "code",
   "execution_count": 23,
   "metadata": {},
   "outputs": [
    {
     "data": {
      "application/vnd.plotly.v1+json": {
       "config": {
        "linkText": "Export to plot.ly",
        "plotlyServerURL": "https://plot.ly",
        "showLink": true
       },
       "data": [
        {
         "histfunc": "count",
         "histnorm": "",
         "marker": {
          "color": "rgba(255, 153, 51, 1.0)",
          "line": {
           "color": "#4D5663",
           "width": 1.3
          }
         },
         "name": "EIRE",
         "opacity": 0.8,
         "orientation": "v",
         "type": "histogram",
         "uid": "bf7b7b56-d6a6-4049-a23f-c40cac38c0b0",
         "x": [
          112,
          672,
          319,
          690,
          42,
          1013,
          3,
          286,
          16,
          330,
          null,
          1798,
          null,
          null,
          120,
          null,
          46,
          86,
          null,
          704,
          62,
          1,
          22,
          20,
          2,
          105,
          16,
          null,
          null,
          207,
          22,
          1,
          null,
          11,
          17,
          88,
          2,
          6,
          1,
          null,
          null,
          72,
          31,
          4,
          1,
          27,
          null,
          8,
          null,
          60,
          1,
          1,
          3,
          null,
          1,
          1,
          25,
          16,
          1,
          6,
          28,
          null,
          null,
          1,
          14,
          2,
          1,
          2,
          1,
          1,
          2,
          2,
          null,
          null,
          1,
          null,
          null,
          1,
          null,
          1,
          null,
          1,
          null,
          null
         ],
         "xaxis": "x",
         "yaxis": "y"
        },
        {
         "histfunc": "count",
         "histnorm": "",
         "marker": {
          "color": "rgba(55, 128, 191, 1.0)",
          "line": {
           "color": "#4D5663",
           "width": 1.3
          }
         },
         "name": "France",
         "opacity": 0.8,
         "orientation": "v",
         "type": "histogram",
         "uid": "d4093dc8-836f-4a5b-bd9d-47732079cfe4",
         "x": [
          255,
          492,
          293,
          608,
          102,
          1126,
          6,
          495,
          15,
          769,
          1,
          2092,
          1,
          9,
          136,
          null,
          35,
          188,
          null,
          820,
          92,
          8,
          27,
          9,
          null,
          112,
          15,
          null,
          null,
          127,
          11,
          null,
          3,
          16,
          6,
          49,
          4,
          9,
          4,
          1,
          null,
          33,
          6,
          8,
          null,
          22,
          null,
          null,
          null,
          7,
          1,
          null,
          5,
          1,
          null,
          null,
          1,
          3,
          null,
          2,
          1,
          2,
          null,
          null,
          1,
          2,
          null,
          1,
          null,
          null,
          null,
          null,
          null,
          null,
          null,
          1,
          null,
          null,
          1,
          null,
          null,
          null,
          null,
          null
         ],
         "xaxis": "x2",
         "yaxis": "y2"
        },
        {
         "histfunc": "count",
         "histnorm": "",
         "marker": {
          "color": "rgba(50, 171, 96, 1.0)",
          "line": {
           "color": "#4D5663",
           "width": 1.3
          }
         },
         "name": "Germany",
         "opacity": 0.8,
         "orientation": "v",
         "type": "histogram",
         "uid": "3166313b-0455-49cc-a827-7fea11fc7dee",
         "x": [
          150,
          448,
          326,
          681,
          78,
          1236,
          2,
          566,
          19,
          694,
          1,
          2490,
          null,
          8,
          158,
          null,
          63,
          198,
          6,
          827,
          184,
          5,
          36,
          27,
          null,
          105,
          23,
          1,
          2,
          149,
          19,
          null,
          1,
          32,
          4,
          21,
          4,
          4,
          null,
          null,
          null,
          18,
          22,
          1,
          null,
          8,
          5,
          9,
          null,
          16,
          null,
          null,
          null,
          null,
          null,
          null,
          2,
          2,
          null,
          null,
          null,
          null,
          null,
          null,
          4,
          1,
          null,
          null,
          null,
          null,
          null,
          1,
          null,
          null,
          null,
          null,
          1,
          null,
          null,
          null,
          null,
          null,
          null,
          null
         ],
         "xaxis": "x3",
         "yaxis": "y3"
        },
        {
         "histfunc": "count",
         "histnorm": "",
         "marker": {
          "color": "rgba(128, 0, 128, 1.0)",
          "line": {
           "color": "#4D5663",
           "width": 1.3
          }
         },
         "name": "Netherlands",
         "opacity": 0.8,
         "orientation": "v",
         "type": "histogram",
         "uid": "6950ac7d-4263-4ee6-a9c4-aa58652179ae",
         "x": [
          151,
          37,
          14,
          39,
          1,
          41,
          null,
          28,
          1,
          24,
          null,
          182,
          null,
          null,
          48,
          1,
          8,
          17,
          null,
          150,
          8,
          null,
          9,
          19,
          null,
          50,
          23,
          null,
          null,
          158,
          49,
          null,
          null,
          44,
          32,
          167,
          null,
          9,
          null,
          null,
          1,
          224,
          215,
          14,
          null,
          75,
          null,
          29,
          1,
          162,
          null,
          null,
          5,
          null,
          1,
          3,
          56,
          70,
          null,
          15,
          38,
          1,
          9,
          null,
          45,
          8,
          5,
          3,
          7,
          8,
          null,
          2,
          2,
          2,
          null,
          3,
          null,
          2,
          null,
          1,
          1,
          2,
          1,
          1
         ],
         "xaxis": "x4",
         "yaxis": "y4"
        }
       ],
       "layout": {
        "barmode": "overlay",
        "legend": {
         "bgcolor": "#F5F6F9",
         "font": {
          "color": "#4D5663"
         }
        },
        "paper_bgcolor": "#F5F6F9",
        "plot_bgcolor": "#F5F6F9",
        "title": {
         "font": {
          "color": "#4D5663"
         },
         "text": "Distributions of quantity per invoice in EIRE, Germany, France, and Netherlands"
        },
        "xaxis": {
         "anchor": "y",
         "domain": [
          0,
          0.45
         ],
         "gridcolor": "#E1E5ED",
         "showgrid": true,
         "tickfont": {
          "color": "#4D5663"
         },
         "title": {
          "font": {
           "color": "#4D5663"
          },
          "text": "Quantity"
         },
         "zerolinecolor": "#E1E5ED"
        },
        "xaxis2": {
         "anchor": "y2",
         "domain": [
          0.55,
          1
         ],
         "gridcolor": "#E1E5ED",
         "showgrid": true,
         "tickfont": {
          "color": "#4D5663"
         },
         "title": {
          "font": {
           "color": "#4D5663"
          },
          "text": "Quantity"
         },
         "zerolinecolor": "#E1E5ED"
        },
        "xaxis3": {
         "anchor": "y3",
         "domain": [
          0,
          0.45
         ],
         "gridcolor": "#E1E5ED",
         "showgrid": true,
         "tickfont": {
          "color": "#4D5663"
         },
         "title": {
          "font": {
           "color": "#4D5663"
          },
          "text": "Quantity"
         },
         "zerolinecolor": "#E1E5ED"
        },
        "xaxis4": {
         "anchor": "y4",
         "domain": [
          0.55,
          1
         ],
         "gridcolor": "#E1E5ED",
         "showgrid": true,
         "tickfont": {
          "color": "#4D5663"
         },
         "title": {
          "font": {
           "color": "#4D5663"
          },
          "text": "Quantity"
         },
         "zerolinecolor": "#E1E5ED"
        },
        "yaxis": {
         "anchor": "x",
         "domain": [
          0.575,
          1
         ],
         "gridcolor": "#E1E5ED",
         "showgrid": true,
         "tickfont": {
          "color": "#4D5663"
         },
         "title": {
          "font": {
           "color": "#4D5663"
          },
          "text": "Num"
         },
         "zerolinecolor": "#E1E5ED"
        },
        "yaxis2": {
         "anchor": "x2",
         "domain": [
          0.575,
          1
         ],
         "gridcolor": "#E1E5ED",
         "showgrid": true,
         "tickfont": {
          "color": "#4D5663"
         },
         "title": {
          "font": {
           "color": "#4D5663"
          },
          "text": "Num"
         },
         "zerolinecolor": "#E1E5ED"
        },
        "yaxis3": {
         "anchor": "x3",
         "domain": [
          0,
          0.425
         ],
         "gridcolor": "#E1E5ED",
         "showgrid": true,
         "tickfont": {
          "color": "#4D5663"
         },
         "title": {
          "font": {
           "color": "#4D5663"
          },
          "text": "Num"
         },
         "zerolinecolor": "#E1E5ED"
        },
        "yaxis4": {
         "anchor": "x4",
         "domain": [
          0,
          0.425
         ],
         "gridcolor": "#E1E5ED",
         "showgrid": true,
         "tickfont": {
          "color": "#4D5663"
         },
         "title": {
          "font": {
           "color": "#4D5663"
          },
          "text": "Num"
         },
         "zerolinecolor": "#E1E5ED"
        }
       }
      },
      "text/html": [
       "<div>\n",
       "        \n",
       "        \n",
       "            <div id=\"5d9191f7-3830-498f-9a3f-495220cf6694\" class=\"plotly-graph-div\" style=\"height:525px; width:100%;\"></div>\n",
       "            <script type=\"text/javascript\">\n",
       "                require([\"plotly\"], function(Plotly) {\n",
       "                    window.PLOTLYENV=window.PLOTLYENV || {};\n",
       "                    window.PLOTLYENV.BASE_URL='https://plot.ly';\n",
       "                    \n",
       "                if (document.getElementById(\"5d9191f7-3830-498f-9a3f-495220cf6694\")) {\n",
       "                    Plotly.newPlot(\n",
       "                        '5d9191f7-3830-498f-9a3f-495220cf6694',\n",
       "                        [{\"histfunc\": \"count\", \"histnorm\": \"\", \"marker\": {\"color\": \"rgba(255, 153, 51, 1.0)\", \"line\": {\"color\": \"#4D5663\", \"width\": 1.3}}, \"name\": \"EIRE\", \"opacity\": 0.8, \"orientation\": \"v\", \"type\": \"histogram\", \"uid\": \"bf7b7b56-d6a6-4049-a23f-c40cac38c0b0\", \"x\": [112.0, 672.0, 319.0, 690.0, 42.0, 1013.0, 3.0, 286.0, 16.0, 330.0, null, 1798.0, null, null, 120.0, null, 46.0, 86.0, null, 704.0, 62.0, 1.0, 22.0, 20.0, 2.0, 105.0, 16.0, null, null, 207.0, 22.0, 1.0, null, 11.0, 17.0, 88.0, 2.0, 6.0, 1.0, null, null, 72.0, 31.0, 4.0, 1.0, 27.0, null, 8.0, null, 60.0, 1.0, 1.0, 3.0, null, 1.0, 1.0, 25.0, 16.0, 1.0, 6.0, 28.0, null, null, 1.0, 14.0, 2.0, 1.0, 2.0, 1.0, 1.0, 2.0, 2.0, null, null, 1.0, null, null, 1.0, null, 1.0, null, 1.0, null, null], \"xaxis\": \"x\", \"yaxis\": \"y\"}, {\"histfunc\": \"count\", \"histnorm\": \"\", \"marker\": {\"color\": \"rgba(55, 128, 191, 1.0)\", \"line\": {\"color\": \"#4D5663\", \"width\": 1.3}}, \"name\": \"France\", \"opacity\": 0.8, \"orientation\": \"v\", \"type\": \"histogram\", \"uid\": \"d4093dc8-836f-4a5b-bd9d-47732079cfe4\", \"x\": [255.0, 492.0, 293.0, 608.0, 102.0, 1126.0, 6.0, 495.0, 15.0, 769.0, 1.0, 2092.0, 1.0, 9.0, 136.0, null, 35.0, 188.0, null, 820.0, 92.0, 8.0, 27.0, 9.0, null, 112.0, 15.0, null, null, 127.0, 11.0, null, 3.0, 16.0, 6.0, 49.0, 4.0, 9.0, 4.0, 1.0, null, 33.0, 6.0, 8.0, null, 22.0, null, null, null, 7.0, 1.0, null, 5.0, 1.0, null, null, 1.0, 3.0, null, 2.0, 1.0, 2.0, null, null, 1.0, 2.0, null, 1.0, null, null, null, null, null, null, null, 1.0, null, null, 1.0, null, null, null, null, null], \"xaxis\": \"x2\", \"yaxis\": \"y2\"}, {\"histfunc\": \"count\", \"histnorm\": \"\", \"marker\": {\"color\": \"rgba(50, 171, 96, 1.0)\", \"line\": {\"color\": \"#4D5663\", \"width\": 1.3}}, \"name\": \"Germany\", \"opacity\": 0.8, \"orientation\": \"v\", \"type\": \"histogram\", \"uid\": \"3166313b-0455-49cc-a827-7fea11fc7dee\", \"x\": [150.0, 448.0, 326.0, 681.0, 78.0, 1236.0, 2.0, 566.0, 19.0, 694.0, 1.0, 2490.0, null, 8.0, 158.0, null, 63.0, 198.0, 6.0, 827.0, 184.0, 5.0, 36.0, 27.0, null, 105.0, 23.0, 1.0, 2.0, 149.0, 19.0, null, 1.0, 32.0, 4.0, 21.0, 4.0, 4.0, null, null, null, 18.0, 22.0, 1.0, null, 8.0, 5.0, 9.0, null, 16.0, null, null, null, null, null, null, 2.0, 2.0, null, null, null, null, null, null, 4.0, 1.0, null, null, null, null, null, 1.0, null, null, null, null, 1.0, null, null, null, null, null, null, null], \"xaxis\": \"x3\", \"yaxis\": \"y3\"}, {\"histfunc\": \"count\", \"histnorm\": \"\", \"marker\": {\"color\": \"rgba(128, 0, 128, 1.0)\", \"line\": {\"color\": \"#4D5663\", \"width\": 1.3}}, \"name\": \"Netherlands\", \"opacity\": 0.8, \"orientation\": \"v\", \"type\": \"histogram\", \"uid\": \"6950ac7d-4263-4ee6-a9c4-aa58652179ae\", \"x\": [151.0, 37.0, 14.0, 39.0, 1.0, 41.0, null, 28.0, 1.0, 24.0, null, 182.0, null, null, 48.0, 1.0, 8.0, 17.0, null, 150.0, 8.0, null, 9.0, 19.0, null, 50.0, 23.0, null, null, 158.0, 49.0, null, null, 44.0, 32.0, 167.0, null, 9.0, null, null, 1.0, 224.0, 215.0, 14.0, null, 75.0, null, 29.0, 1.0, 162.0, null, null, 5.0, null, 1.0, 3.0, 56.0, 70.0, null, 15.0, 38.0, 1.0, 9.0, null, 45.0, 8.0, 5.0, 3.0, 7.0, 8.0, null, 2.0, 2.0, 2.0, null, 3.0, null, 2.0, null, 1.0, 1.0, 2.0, 1.0, 1.0], \"xaxis\": \"x4\", \"yaxis\": \"y4\"}],\n",
       "                        {\"barmode\": \"overlay\", \"legend\": {\"bgcolor\": \"#F5F6F9\", \"font\": {\"color\": \"#4D5663\"}}, \"paper_bgcolor\": \"#F5F6F9\", \"plot_bgcolor\": \"#F5F6F9\", \"title\": {\"font\": {\"color\": \"#4D5663\"}, \"text\": \"Distributions of quantity per invoice in EIRE, Germany, France, and Netherlands\"}, \"xaxis\": {\"anchor\": \"y\", \"domain\": [0.0, 0.45], \"gridcolor\": \"#E1E5ED\", \"showgrid\": true, \"tickfont\": {\"color\": \"#4D5663\"}, \"title\": {\"font\": {\"color\": \"#4D5663\"}, \"text\": \"Quantity\"}, \"zerolinecolor\": \"#E1E5ED\"}, \"xaxis2\": {\"anchor\": \"y2\", \"domain\": [0.55, 1.0], \"gridcolor\": \"#E1E5ED\", \"showgrid\": true, \"tickfont\": {\"color\": \"#4D5663\"}, \"title\": {\"font\": {\"color\": \"#4D5663\"}, \"text\": \"Quantity\"}, \"zerolinecolor\": \"#E1E5ED\"}, \"xaxis3\": {\"anchor\": \"y3\", \"domain\": [0.0, 0.45], \"gridcolor\": \"#E1E5ED\", \"showgrid\": true, \"tickfont\": {\"color\": \"#4D5663\"}, \"title\": {\"font\": {\"color\": \"#4D5663\"}, \"text\": \"Quantity\"}, \"zerolinecolor\": \"#E1E5ED\"}, \"xaxis4\": {\"anchor\": \"y4\", \"domain\": [0.55, 1.0], \"gridcolor\": \"#E1E5ED\", \"showgrid\": true, \"tickfont\": {\"color\": \"#4D5663\"}, \"title\": {\"font\": {\"color\": \"#4D5663\"}, \"text\": \"Quantity\"}, \"zerolinecolor\": \"#E1E5ED\"}, \"yaxis\": {\"anchor\": \"x\", \"domain\": [0.575, 1.0], \"gridcolor\": \"#E1E5ED\", \"showgrid\": true, \"tickfont\": {\"color\": \"#4D5663\"}, \"title\": {\"font\": {\"color\": \"#4D5663\"}, \"text\": \"Num\"}, \"zerolinecolor\": \"#E1E5ED\"}, \"yaxis2\": {\"anchor\": \"x2\", \"domain\": [0.575, 1.0], \"gridcolor\": \"#E1E5ED\", \"showgrid\": true, \"tickfont\": {\"color\": \"#4D5663\"}, \"title\": {\"font\": {\"color\": \"#4D5663\"}, \"text\": \"Num\"}, \"zerolinecolor\": \"#E1E5ED\"}, \"yaxis3\": {\"anchor\": \"x3\", \"domain\": [0.0, 0.425], \"gridcolor\": \"#E1E5ED\", \"showgrid\": true, \"tickfont\": {\"color\": \"#4D5663\"}, \"title\": {\"font\": {\"color\": \"#4D5663\"}, \"text\": \"Num\"}, \"zerolinecolor\": \"#E1E5ED\"}, \"yaxis4\": {\"anchor\": \"x4\", \"domain\": [0.0, 0.425], \"gridcolor\": \"#E1E5ED\", \"showgrid\": true, \"tickfont\": {\"color\": \"#4D5663\"}, \"title\": {\"font\": {\"color\": \"#4D5663\"}, \"text\": \"Num\"}, \"zerolinecolor\": \"#E1E5ED\"}},\n",
       "                        {\"showLink\": true, \"linkText\": \"Export to plot.ly\", \"plotlyServerURL\": \"https://plot.ly\", \"responsive\": true}\n",
       "                    ).then(function(){\n",
       "                            \n",
       "var gd = document.getElementById('5d9191f7-3830-498f-9a3f-495220cf6694');\n",
       "var x = new MutationObserver(function (mutations, observer) {{\n",
       "        var display = window.getComputedStyle(gd).display;\n",
       "        if (!display || display === 'none') {{\n",
       "            console.log([gd, 'removed!']);\n",
       "            Plotly.purge(gd);\n",
       "            observer.disconnect();\n",
       "        }}\n",
       "}});\n",
       "\n",
       "// Listen for the removal of the full notebook cells\n",
       "var notebookContainer = gd.closest('#notebook-container');\n",
       "if (notebookContainer) {{\n",
       "    x.observe(notebookContainer, {childList: true});\n",
       "}}\n",
       "\n",
       "// Listen for the clearing of the current output cell\n",
       "var outputEl = gd.closest('.output');\n",
       "if (outputEl) {{\n",
       "    x.observe(outputEl, {childList: true});\n",
       "}}\n",
       "\n",
       "                        })\n",
       "                };\n",
       "                });\n",
       "            </script>\n",
       "        </div>"
      ]
     },
     "metadata": {},
     "output_type": "display_data"
    }
   ],
   "source": [
    "data4.iplot(kind='hist', xTitle='Quantity', subplots=True,\n",
    "yTitle='Num', title='Distributions of quantity per invoice in EIRE, Germany, France, and Netherlands')"
   ]
  },
  {
   "cell_type": "markdown",
   "metadata": {},
   "source": [
    "## 5. Create an interactive side-by-side bar chart showing the revenue by country listed below (bars) for each of the products listed below."
   ]
  },
  {
   "cell_type": "code",
   "execution_count": 24,
   "metadata": {},
   "outputs": [],
   "source": [
    "product_list = ['JUMBO BAG RED RETROSPOT', \n",
    "                'CREAM HANGING HEART T-LIGHT HOLDER',\n",
    "                'REGENCY CAKESTAND 3 TIER']\n",
    "\n",
    "country_list = ['EIRE', 'Germany', 'France', 'Netherlands']"
   ]
  },
  {
   "cell_type": "code",
   "execution_count": 31,
   "metadata": {},
   "outputs": [
    {
     "data": {
      "text/html": [
       "<div>\n",
       "<style scoped>\n",
       "    .dataframe tbody tr th:only-of-type {\n",
       "        vertical-align: middle;\n",
       "    }\n",
       "\n",
       "    .dataframe tbody tr th {\n",
       "        vertical-align: top;\n",
       "    }\n",
       "\n",
       "    .dataframe thead th {\n",
       "        text-align: right;\n",
       "    }\n",
       "</style>\n",
       "<table border=\"1\" class=\"dataframe\">\n",
       "  <thead>\n",
       "    <tr style=\"text-align: right;\">\n",
       "      <th>Description</th>\n",
       "      <th>CREAM HANGING HEART T-LIGHT HOLDER</th>\n",
       "      <th>JUMBO BAG RED RETROSPOT</th>\n",
       "      <th>REGENCY CAKESTAND 3 TIER</th>\n",
       "    </tr>\n",
       "    <tr>\n",
       "      <th>Country</th>\n",
       "      <th></th>\n",
       "      <th></th>\n",
       "      <th></th>\n",
       "    </tr>\n",
       "  </thead>\n",
       "  <tbody>\n",
       "    <tr>\n",
       "      <th>EIRE</th>\n",
       "      <td>2740.80</td>\n",
       "      <td>278.72</td>\n",
       "      <td>7388.55</td>\n",
       "    </tr>\n",
       "    <tr>\n",
       "      <th>France</th>\n",
       "      <td>131.75</td>\n",
       "      <td>903.37</td>\n",
       "      <td>2816.85</td>\n",
       "    </tr>\n",
       "    <tr>\n",
       "      <th>Germany</th>\n",
       "      <td>35.40</td>\n",
       "      <td>1072.76</td>\n",
       "      <td>9061.95</td>\n",
       "    </tr>\n",
       "    <tr>\n",
       "      <th>Netherlands</th>\n",
       "      <td>1167.00</td>\n",
       "      <td>3468.00</td>\n",
       "      <td>3166.35</td>\n",
       "    </tr>\n",
       "  </tbody>\n",
       "</table>\n",
       "</div>"
      ],
      "text/plain": [
       "Description  CREAM HANGING HEART T-LIGHT HOLDER  JUMBO BAG RED RETROSPOT  \\\n",
       "Country                                                                    \n",
       "EIRE                                    2740.80                   278.72   \n",
       "France                                   131.75                   903.37   \n",
       "Germany                                   35.40                  1072.76   \n",
       "Netherlands                             1167.00                  3468.00   \n",
       "\n",
       "Description  REGENCY CAKESTAND 3 TIER  \n",
       "Country                                \n",
       "EIRE                          7388.55  \n",
       "France                        2816.85  \n",
       "Germany                       9061.95  \n",
       "Netherlands                   3166.35  "
      ]
     },
     "execution_count": 31,
     "metadata": {},
     "output_type": "execute_result"
    }
   ],
   "source": [
    "data5 = data[(data['Description'].isin(product_list)) & (data['Country'].isin(country_list))]\n",
    "data5 = data5.pivot_table(values='Revenue', index='Country', columns='Description', aggfunc='sum')\n",
    "data5\n",
    "\n"
   ]
  },
  {
   "cell_type": "code",
   "execution_count": 68,
   "metadata": {},
   "outputs": [
    {
     "data": {
      "application/vnd.plotly.v1+json": {
       "config": {
        "linkText": "Export to plot.ly",
        "plotlyServerURL": "https://plot.ly",
        "showLink": true
       },
       "data": [
        {
         "marker": {
          "color": "rgba(255, 153, 51, 0.6)",
          "line": {
           "color": "rgba(255, 153, 51, 1.0)",
           "width": 1
          }
         },
         "name": "CREAM HANGING HEART T-LIGHT HOLDER",
         "orientation": "v",
         "text": "",
         "type": "bar",
         "uid": "ad4a8c99-5f25-4451-b8b2-ff1bcb4c40ef",
         "x": [
          "EIRE",
          "France",
          "Germany",
          "Netherlands"
         ],
         "xaxis": "x",
         "y": [
          2740.8,
          131.75,
          35.40000000000001,
          1167
         ],
         "yaxis": "y"
        },
        {
         "marker": {
          "color": "rgba(55, 128, 191, 0.6)",
          "line": {
           "color": "rgba(55, 128, 191, 1.0)",
           "width": 1
          }
         },
         "name": "JUMBO BAG RED RETROSPOT",
         "orientation": "v",
         "text": "",
         "type": "bar",
         "uid": "af81c094-5b7a-47c3-9c9b-4dd2e510daad",
         "x": [
          "EIRE",
          "France",
          "Germany",
          "Netherlands"
         ],
         "xaxis": "x2",
         "y": [
          278.72,
          903.3699999999998,
          1072.7599999999998,
          3468
         ],
         "yaxis": "y2"
        },
        {
         "marker": {
          "color": "rgba(50, 171, 96, 0.6)",
          "line": {
           "color": "rgba(50, 171, 96, 1.0)",
           "width": 1
          }
         },
         "name": "REGENCY CAKESTAND 3 TIER",
         "orientation": "v",
         "text": "",
         "type": "bar",
         "uid": "60f4ed6d-6b35-470a-96af-28b3a9eb6ceb",
         "x": [
          "EIRE",
          "France",
          "Germany",
          "Netherlands"
         ],
         "xaxis": "x3",
         "y": [
          7388.5499999999965,
          2816.85,
          9061.949999999997,
          3166.35
         ],
         "yaxis": "y3"
        }
       ],
       "layout": {
        "annotations": [
         {
          "font": {
           "size": 16
          },
          "showarrow": false,
          "text": "CREAM HOLDER",
          "x": 0.14444444444444446,
          "xanchor": "center",
          "xref": "paper",
          "y": 1,
          "yanchor": "bottom",
          "yref": "paper"
         },
         {
          "font": {
           "size": 16
          },
          "showarrow": false,
          "text": "JUMBO BAG",
          "x": 0.5,
          "xanchor": "center",
          "xref": "paper",
          "y": 1,
          "yanchor": "bottom",
          "yref": "paper"
         },
         {
          "font": {
           "size": 16
          },
          "showarrow": false,
          "text": "CAKESTAND",
          "x": 0.8555555555555556,
          "xanchor": "center",
          "xref": "paper",
          "y": 1,
          "yanchor": "bottom",
          "yref": "paper"
         }
        ],
        "legend": {
         "bgcolor": "#F5F6F9",
         "font": {
          "color": "#4D5663"
         }
        },
        "paper_bgcolor": "#F5F6F9",
        "plot_bgcolor": "#F5F6F9",
        "showlegend": false,
        "title": {
         "font": {
          "color": "#4D5663"
         },
         "text": "Revenue by Country of the products"
        },
        "xaxis": {
         "anchor": "y",
         "domain": [
          0,
          0.2888888888888889
         ],
         "gridcolor": "#E1E5ED",
         "showgrid": true,
         "tickfont": {
          "color": "#4D5663"
         },
         "title": {
          "font": {
           "color": "#4D5663"
          },
          "text": ""
         },
         "zerolinecolor": "#E1E5ED"
        },
        "xaxis2": {
         "anchor": "y2",
         "domain": [
          0.35555555555555557,
          0.6444444444444445
         ],
         "gridcolor": "#E1E5ED",
         "showgrid": true,
         "tickfont": {
          "color": "#4D5663"
         },
         "title": {
          "font": {
           "color": "#4D5663"
          },
          "text": ""
         },
         "zerolinecolor": "#E1E5ED"
        },
        "xaxis3": {
         "anchor": "y3",
         "domain": [
          0.7111111111111111,
          1
         ],
         "gridcolor": "#E1E5ED",
         "showgrid": true,
         "tickfont": {
          "color": "#4D5663"
         },
         "title": {
          "font": {
           "color": "#4D5663"
          },
          "text": ""
         },
         "zerolinecolor": "#E1E5ED"
        },
        "yaxis": {
         "anchor": "x",
         "domain": [
          0,
          1
         ],
         "gridcolor": "#E1E5ED",
         "showgrid": true,
         "tickfont": {
          "color": "#4D5663"
         },
         "title": {
          "font": {
           "color": "#4D5663"
          },
          "text": ""
         },
         "zerolinecolor": "#E1E5ED"
        },
        "yaxis2": {
         "anchor": "x2",
         "domain": [
          0,
          1
         ],
         "gridcolor": "#E1E5ED",
         "showgrid": true,
         "tickfont": {
          "color": "#4D5663"
         },
         "title": {
          "font": {
           "color": "#4D5663"
          },
          "text": ""
         },
         "zerolinecolor": "#E1E5ED"
        },
        "yaxis3": {
         "anchor": "x3",
         "domain": [
          0,
          1
         ],
         "gridcolor": "#E1E5ED",
         "showgrid": true,
         "tickfont": {
          "color": "#4D5663"
         },
         "title": {
          "font": {
           "color": "#4D5663"
          },
          "text": ""
         },
         "zerolinecolor": "#E1E5ED"
        }
       }
      },
      "text/html": [
       "<div>\n",
       "        \n",
       "        \n",
       "            <div id=\"ed6ee16d-c83c-4a3d-b623-da6a0a1e9e31\" class=\"plotly-graph-div\" style=\"height:525px; width:100%;\"></div>\n",
       "            <script type=\"text/javascript\">\n",
       "                require([\"plotly\"], function(Plotly) {\n",
       "                    window.PLOTLYENV=window.PLOTLYENV || {};\n",
       "                    window.PLOTLYENV.BASE_URL='https://plot.ly';\n",
       "                    \n",
       "                if (document.getElementById(\"ed6ee16d-c83c-4a3d-b623-da6a0a1e9e31\")) {\n",
       "                    Plotly.newPlot(\n",
       "                        'ed6ee16d-c83c-4a3d-b623-da6a0a1e9e31',\n",
       "                        [{\"marker\": {\"color\": \"rgba(255, 153, 51, 0.6)\", \"line\": {\"color\": \"rgba(255, 153, 51, 1.0)\", \"width\": 1}}, \"name\": \"CREAM HANGING HEART T-LIGHT HOLDER\", \"orientation\": \"v\", \"text\": \"\", \"type\": \"bar\", \"uid\": \"ad4a8c99-5f25-4451-b8b2-ff1bcb4c40ef\", \"x\": [\"EIRE\", \"France\", \"Germany\", \"Netherlands\"], \"xaxis\": \"x\", \"y\": [2740.8, 131.75, 35.40000000000001, 1167.0], \"yaxis\": \"y\"}, {\"marker\": {\"color\": \"rgba(55, 128, 191, 0.6)\", \"line\": {\"color\": \"rgba(55, 128, 191, 1.0)\", \"width\": 1}}, \"name\": \"JUMBO BAG RED RETROSPOT\", \"orientation\": \"v\", \"text\": \"\", \"type\": \"bar\", \"uid\": \"af81c094-5b7a-47c3-9c9b-4dd2e510daad\", \"x\": [\"EIRE\", \"France\", \"Germany\", \"Netherlands\"], \"xaxis\": \"x2\", \"y\": [278.72, 903.3699999999998, 1072.7599999999998, 3468.0], \"yaxis\": \"y2\"}, {\"marker\": {\"color\": \"rgba(50, 171, 96, 0.6)\", \"line\": {\"color\": \"rgba(50, 171, 96, 1.0)\", \"width\": 1}}, \"name\": \"REGENCY CAKESTAND 3 TIER\", \"orientation\": \"v\", \"text\": \"\", \"type\": \"bar\", \"uid\": \"60f4ed6d-6b35-470a-96af-28b3a9eb6ceb\", \"x\": [\"EIRE\", \"France\", \"Germany\", \"Netherlands\"], \"xaxis\": \"x3\", \"y\": [7388.5499999999965, 2816.85, 9061.949999999997, 3166.35], \"yaxis\": \"y3\"}],\n",
       "                        {\"annotations\": [{\"font\": {\"size\": 16}, \"showarrow\": false, \"text\": \"CREAM HOLDER\", \"x\": 0.14444444444444446, \"xanchor\": \"center\", \"xref\": \"paper\", \"y\": 1.0, \"yanchor\": \"bottom\", \"yref\": \"paper\"}, {\"font\": {\"size\": 16}, \"showarrow\": false, \"text\": \"JUMBO BAG\", \"x\": 0.5, \"xanchor\": \"center\", \"xref\": \"paper\", \"y\": 1.0, \"yanchor\": \"bottom\", \"yref\": \"paper\"}, {\"font\": {\"size\": 16}, \"showarrow\": false, \"text\": \"CAKESTAND\", \"x\": 0.8555555555555556, \"xanchor\": \"center\", \"xref\": \"paper\", \"y\": 1.0, \"yanchor\": \"bottom\", \"yref\": \"paper\"}], \"legend\": {\"bgcolor\": \"#F5F6F9\", \"font\": {\"color\": \"#4D5663\"}}, \"paper_bgcolor\": \"#F5F6F9\", \"plot_bgcolor\": \"#F5F6F9\", \"showlegend\": false, \"title\": {\"font\": {\"color\": \"#4D5663\"}, \"text\": \"Revenue by Country of the products\"}, \"xaxis\": {\"anchor\": \"y\", \"domain\": [0.0, 0.2888888888888889], \"gridcolor\": \"#E1E5ED\", \"showgrid\": true, \"tickfont\": {\"color\": \"#4D5663\"}, \"title\": {\"font\": {\"color\": \"#4D5663\"}, \"text\": \"\"}, \"zerolinecolor\": \"#E1E5ED\"}, \"xaxis2\": {\"anchor\": \"y2\", \"domain\": [0.35555555555555557, 0.6444444444444445], \"gridcolor\": \"#E1E5ED\", \"showgrid\": true, \"tickfont\": {\"color\": \"#4D5663\"}, \"title\": {\"font\": {\"color\": \"#4D5663\"}, \"text\": \"\"}, \"zerolinecolor\": \"#E1E5ED\"}, \"xaxis3\": {\"anchor\": \"y3\", \"domain\": [0.7111111111111111, 1.0], \"gridcolor\": \"#E1E5ED\", \"showgrid\": true, \"tickfont\": {\"color\": \"#4D5663\"}, \"title\": {\"font\": {\"color\": \"#4D5663\"}, \"text\": \"\"}, \"zerolinecolor\": \"#E1E5ED\"}, \"yaxis\": {\"anchor\": \"x\", \"domain\": [0.0, 1.0], \"gridcolor\": \"#E1E5ED\", \"showgrid\": true, \"tickfont\": {\"color\": \"#4D5663\"}, \"title\": {\"font\": {\"color\": \"#4D5663\"}, \"text\": \"\"}, \"zerolinecolor\": \"#E1E5ED\"}, \"yaxis2\": {\"anchor\": \"x2\", \"domain\": [0.0, 1.0], \"gridcolor\": \"#E1E5ED\", \"showgrid\": true, \"tickfont\": {\"color\": \"#4D5663\"}, \"title\": {\"font\": {\"color\": \"#4D5663\"}, \"text\": \"\"}, \"zerolinecolor\": \"#E1E5ED\"}, \"yaxis3\": {\"anchor\": \"x3\", \"domain\": [0.0, 1.0], \"gridcolor\": \"#E1E5ED\", \"showgrid\": true, \"tickfont\": {\"color\": \"#4D5663\"}, \"title\": {\"font\": {\"color\": \"#4D5663\"}, \"text\": \"\"}, \"zerolinecolor\": \"#E1E5ED\"}},\n",
       "                        {\"showLink\": true, \"linkText\": \"Export to plot.ly\", \"plotlyServerURL\": \"https://plot.ly\", \"responsive\": true}\n",
       "                    ).then(function(){\n",
       "                            \n",
       "var gd = document.getElementById('ed6ee16d-c83c-4a3d-b623-da6a0a1e9e31');\n",
       "var x = new MutationObserver(function (mutations, observer) {{\n",
       "        var display = window.getComputedStyle(gd).display;\n",
       "        if (!display || display === 'none') {{\n",
       "            console.log([gd, 'removed!']);\n",
       "            Plotly.purge(gd);\n",
       "            observer.disconnect();\n",
       "        }}\n",
       "}});\n",
       "\n",
       "// Listen for the removal of the full notebook cells\n",
       "var notebookContainer = gd.closest('#notebook-container');\n",
       "if (notebookContainer) {{\n",
       "    x.observe(notebookContainer, {childList: true});\n",
       "}}\n",
       "\n",
       "// Listen for the clearing of the current output cell\n",
       "var outputEl = gd.closest('.output');\n",
       "if (outputEl) {{\n",
       "    x.observe(outputEl, {childList: true});\n",
       "}}\n",
       "\n",
       "                        })\n",
       "                };\n",
       "                });\n",
       "            </script>\n",
       "        </div>"
      ]
     },
     "metadata": {},
     "output_type": "display_data"
    }
   ],
   "source": [
    "data5.iplot(kind='bar', subplots=True, subplot_titles=['CREAM HOLDER','JUMBO BAG','CAKESTAND'], shape=(1, 3),legend=False, title='Revenue by Country of the products')\n"
   ]
  },
  {
   "cell_type": "markdown",
   "metadata": {},
   "source": [
    "## 6. Create an interactive line chart showing quantity sold by day for the United Kingdom. Add drop-down boxes for Year and Month that allow you to filter the date range that appears in the chart."
   ]
  },
  {
   "cell_type": "code",
   "execution_count": 69,
   "metadata": {},
   "outputs": [],
   "source": [
    "data['Year'] = pd.DatetimeIndex(data['InvoiceDate']).year\n",
    "data['Month'] = pd.DatetimeIndex(data['InvoiceDate']).month\n",
    "data['Day'] = pd.DatetimeIndex(data['InvoiceDate']).day\n",
    "uk = data[data['Country']=='United Kingdom']"
   ]
  },
  {
   "cell_type": "code",
   "execution_count": 78,
   "metadata": {},
   "outputs": [
    {
     "data": {
      "application/vnd.jupyter.widget-view+json": {
       "model_id": "c1853ae768ba4bbf97f21f9ac503056b",
       "version_major": 2,
       "version_minor": 0
      },
      "text/plain": [
       "interactive(children=(Dropdown(description='Selection', options=('Day', 'Month', 'Year'), value='Day'), Output…"
      ]
     },
     "metadata": {},
     "output_type": "display_data"
    }
   ],
   "source": [
    "@interact(Selection=['Day','Month','Year'])\n",
    "\n",
    "def linechart(Selection):\n",
    "    data6 = uk.pivot_table(values='Quantity', index=Selection,\n",
    "                            aggfunc='sum').reset_index()\n",
    "\n",
    "    data6.iplot(kind='line', x=Selection, xTitle=Selection.title(), \n",
    "               yTitle='Quantity Sold', title='Quantity Sold by ' + Selection.title())"
   ]
  },
  {
   "cell_type": "markdown",
   "metadata": {},
   "source": [
    "## 7. Create an interactive scatter plot that plots number of invoices (x-axis) vs. number of customers (y-axis) and the plot points represent individual products. Add two sliders that control the x and y axis ranges."
   ]
  },
  {
   "cell_type": "code",
   "execution_count": 141,
   "metadata": {},
   "outputs": [
    {
     "data": {
      "text/plain": [
       "Index(['Description', 'InvoiceNo', 'Quantity', 'UnitPrice', 'Revenue',\n",
       "       'CustomerID'],\n",
       "      dtype='object')"
      ]
     },
     "execution_count": 141,
     "metadata": {},
     "output_type": "execute_result"
    }
   ],
   "source": [
    "agg_func = {'InvoiceNo':'nunique',\n",
    "            'Quantity':'sum',\n",
    "            'UnitPrice':'mean',\n",
    "            'Revenue':'sum',\n",
    "            'CustomerID':'nunique'}\n",
    "\n",
    "products = uk.groupby('Description').agg(agg_func)\n",
    "products = products.reset_index()"
   ]
  },
  {
   "cell_type": "code",
   "execution_count": 143,
   "metadata": {},
   "outputs": [],
   "source": [
    "#Para comprobar que funciona sin esperar 3 min por plot, puedes descomentar esta linea\n",
    "products = products.head(100) "
   ]
  },
  {
   "cell_type": "code",
   "execution_count": 144,
   "metadata": {},
   "outputs": [
    {
     "data": {
      "application/vnd.jupyter.widget-view+json": {
       "model_id": "6b19504d7d35498795b235e505c98c31",
       "version_major": 2,
       "version_minor": 0
      },
      "text/plain": [
       "interactive(children=(IntSlider(value=42, description='rangex', max=74, min=10), IntSlider(value=44, descripti…"
      ]
     },
     "metadata": {},
     "output_type": "display_data"
    }
   ],
   "source": [
    "x_max=len(products['InvoiceNo'].unique())\n",
    "y_max=len(products['CustomerID'].unique())\n",
    "\n",
    "@interact(rangex = (10,x_max),rangey=(10,y_max))\n",
    "\n",
    "def Scatter(rangex,rangey):\n",
    "    layout = go.Layout(\n",
    "            xaxis=dict(\n",
    "                range=[0, rangex]\n",
    "            ),        \n",
    "            yaxis=dict(\n",
    "                range=[0, rangey]\n",
    "            )\n",
    "        )\n",
    "    products.iplot(x='InvoiceNo', y='CustomerID', categories='Description', layout = layout)"
   ]
  },
  {
   "cell_type": "markdown",
   "metadata": {},
   "source": [
    "## 8. Creat an interactive bar chart that shows revenue by product description. Add a text field widget that filters the results to show the product that contain the text entered in their description."
   ]
  },
  {
   "cell_type": "code",
   "execution_count": 155,
   "metadata": {},
   "outputs": [
    {
     "data": {
      "application/vnd.jupyter.widget-view+json": {
       "model_id": "898b63c911914885884f368a37c44f29",
       "version_major": 2,
       "version_minor": 0
      },
      "text/plain": [
       "interactive(children=(Text(value='', description='Description'), Output()), _dom_classes=('widget-interact',))"
      ]
     },
     "metadata": {},
     "output_type": "display_data"
    }
   ],
   "source": [
    "@interact(Description='')\n",
    "def chart(Description):\n",
    "    data8 = data[data['Description'].str.contains(Description)]\n",
    "    data8 = data8.groupby('Description').agg({'Revenue':'sum'}).reset_index()\n",
    "    \n",
    "    data8.iplot(kind='bar', x='Description', y='Revenue', title='Revenue by Product',\n",
    "                theme='white', world_readable=True)\n",
    "    "
   ]
  }
 ],
 "metadata": {
  "kernelspec": {
   "display_name": "Python 3",
   "language": "python",
   "name": "python3"
  },
  "language_info": {
   "codemirror_mode": {
    "name": "ipython",
    "version": 3
   },
   "file_extension": ".py",
   "mimetype": "text/x-python",
   "name": "python",
   "nbconvert_exporter": "python",
   "pygments_lexer": "ipython3",
   "version": "3.7.3"
  },
  "latex_envs": {
   "LaTeX_envs_menu_present": true,
   "autoclose": false,
   "autocomplete": true,
   "bibliofile": "biblio.bib",
   "cite_by": "apalike",
   "current_citInitial": 1,
   "eqLabelWithNumbers": true,
   "eqNumInitial": 1,
   "hotkeys": {
    "equation": "Ctrl-E",
    "itemize": "Ctrl-I"
   },
   "labels_anchors": false,
   "latex_user_defs": false,
   "report_style_numbering": false,
   "user_envs_cfg": false
  },
  "toc": {
   "base_numbering": 1,
   "nav_menu": {},
   "number_sections": true,
   "sideBar": true,
   "skip_h1_title": false,
   "title_cell": "Table of Contents",
   "title_sidebar": "Contents",
   "toc_cell": true,
   "toc_position": {},
   "toc_section_display": true,
   "toc_window_display": false
  },
  "varInspector": {
   "cols": {
    "lenName": 16,
    "lenType": 16,
    "lenVar": 40
   },
   "kernels_config": {
    "python": {
     "delete_cmd_postfix": "",
     "delete_cmd_prefix": "del ",
     "library": "var_list.py",
     "varRefreshCmd": "print(var_dic_list())"
    },
    "r": {
     "delete_cmd_postfix": ") ",
     "delete_cmd_prefix": "rm(",
     "library": "var_list.r",
     "varRefreshCmd": "cat(var_dic_list()) "
    }
   },
   "types_to_exclude": [
    "module",
    "function",
    "builtin_function_or_method",
    "instance",
    "_Feature"
   ],
   "window_display": false
  }
 },
 "nbformat": 4,
 "nbformat_minor": 2
}
